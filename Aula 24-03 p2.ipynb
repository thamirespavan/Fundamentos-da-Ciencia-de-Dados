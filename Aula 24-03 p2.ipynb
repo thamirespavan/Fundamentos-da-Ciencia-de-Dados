{
 "cells": [
  {
   "cell_type": "code",
   "execution_count": null,
   "id": "0cda1918-44a0-4b62-8c78-5cae34f1f34d",
   "metadata": {},
   "outputs": [],
   "source": [
    "#IF, ELIF, ELSE"
   ]
  },
  {
   "cell_type": "code",
   "execution_count": 2,
   "id": "afb790c0-6598-4de7-b98f-701e945265fd",
   "metadata": {
    "tags": []
   },
   "outputs": [
    {
     "name": "stdout",
     "output_type": "stream",
     "text": [
      "Qual a temperatura hoje?\n"
     ]
    },
    {
     "name": "stdin",
     "output_type": "stream",
     "text": [
      " 34\n"
     ]
    },
    {
     "name": "stdout",
     "output_type": "stream",
     "text": [
      "Está quente.\n"
     ]
    }
   ],
   "source": [
    "print(\"Qual a temperatura hoje?\")\n",
    "temp = float(input())\n",
    "\n",
    "if temp > 30:\n",
    "    print(\"Está quente.\")"
   ]
  },
  {
   "cell_type": "code",
   "execution_count": 6,
   "id": "55ea972f-76b0-4438-9652-6a812e880860",
   "metadata": {
    "tags": []
   },
   "outputs": [
    {
     "name": "stdout",
     "output_type": "stream",
     "text": [
      "Qual a temperatura hoje?\n"
     ]
    },
    {
     "name": "stdin",
     "output_type": "stream",
     "text": [
      " -5\n"
     ]
    },
    {
     "name": "stdout",
     "output_type": "stream",
     "text": [
      "Está muito frio.\n"
     ]
    }
   ],
   "source": [
    "print(\"Qual a temperatura hoje?\")\n",
    "temp = float(input())\n",
    "\n",
    "if temp > 30:\n",
    "    print(\"Está quente.\")\n",
    "    \n",
    "elif temp < 0:\n",
    "    print(\"Está muito frio.\")"
   ]
  },
  {
   "cell_type": "code",
   "execution_count": 7,
   "id": "6e96d63f-dfcf-4c34-93b5-8cb9af741c5f",
   "metadata": {
    "tags": []
   },
   "outputs": [
    {
     "name": "stdout",
     "output_type": "stream",
     "text": [
      "Qual a temperatura hoje?\n"
     ]
    },
    {
     "name": "stdin",
     "output_type": "stream",
     "text": [
      " 2\n"
     ]
    },
    {
     "name": "stdout",
     "output_type": "stream",
     "text": [
      "Está uma temperatura ok.\n"
     ]
    }
   ],
   "source": [
    "print(\"Qual a temperatura hoje?\")\n",
    "temp = float(input())\n",
    "\n",
    "if temp > 30:\n",
    "    print(\"Está quente.\")\n",
    "    \n",
    "elif temp < 0:\n",
    "    print(\"Está muito frio.\")\n",
    "\n",
    "else:\n",
    "    print(\"Está uma temperatura ok.\")"
   ]
  },
  {
   "cell_type": "code",
   "execution_count": 11,
   "id": "058fe6f1-ce4f-4846-8e34-ca4b4582d274",
   "metadata": {
    "tags": []
   },
   "outputs": [
    {
     "name": "stdout",
     "output_type": "stream",
     "text": [
      "Qual a temperatura hoje?\n"
     ]
    },
    {
     "name": "stdin",
     "output_type": "stream",
     "text": [
      " -5\n"
     ]
    },
    {
     "name": "stdout",
     "output_type": "stream",
     "text": [
      "Deu ruim.\n"
     ]
    }
   ],
   "source": [
    "print(\"Qual a temperatura hoje?\")\n",
    "temp = float(input())\n",
    "\n",
    "if temp > 30:\n",
    "    print(\"Está quente.\")\n",
    "    \n",
    "elif temp < 0:\n",
    "    print(\"Deu ruim.\")\n",
    "    \n",
    "elif temp < 20:\n",
    "    print(\"Está frio.\")\n",
    "\n",
    "else:\n",
    "    print(\"Está uma temperatura ok.\")"
   ]
  },
  {
   "cell_type": "code",
   "execution_count": 15,
   "id": "d6f3df9b-2edf-440e-8f52-273255954fc5",
   "metadata": {
    "tags": []
   },
   "outputs": [
    {
     "name": "stdout",
     "output_type": "stream",
     "text": [
      "Qual a temperatura hoje?\n"
     ]
    },
    {
     "name": "stdin",
     "output_type": "stream",
     "text": [
      " 15\n"
     ]
    },
    {
     "name": "stdout",
     "output_type": "stream",
     "text": [
      "Está frio.\n"
     ]
    }
   ],
   "source": [
    "print(\"Qual a temperatura hoje?\")\n",
    "temp = float(input())\n",
    "\n",
    "if temp > 30:\n",
    "    print(\"Está quente.\")\n",
    "    \n",
    "elif temp > 0 and temp <20:\n",
    "    print(\"Está frio.\")\n",
    "\n",
    "else:\n",
    "    print(\"Está uma temperatura ok.\")"
   ]
  },
  {
   "cell_type": "code",
   "execution_count": 16,
   "id": "9effa0d5-e8a3-4e3e-96b4-96e810e77f16",
   "metadata": {
    "tags": []
   },
   "outputs": [],
   "source": [
    "#Range"
   ]
  },
  {
   "cell_type": "code",
   "execution_count": 18,
   "id": "57dee5f0-fed4-4d90-abcc-a7c1d15a6ee2",
   "metadata": {
    "tags": []
   },
   "outputs": [
    {
     "data": {
      "text/plain": [
       "[0, 1, 2, 3, 4, 5, 6, 7, 8, 9]"
      ]
     },
     "execution_count": 18,
     "metadata": {},
     "output_type": "execute_result"
    }
   ],
   "source": [
    "list(range(10))"
   ]
  },
  {
   "cell_type": "code",
   "execution_count": 19,
   "id": "bfaa564b-0759-4729-a35e-5b9994c717ed",
   "metadata": {
    "tags": []
   },
   "outputs": [],
   "source": [
    "# FOR"
   ]
  },
  {
   "cell_type": "code",
   "execution_count": 20,
   "id": "312085e1-9dc0-4b7c-a73f-7a6914326607",
   "metadata": {
    "tags": []
   },
   "outputs": [
    {
     "name": "stdout",
     "output_type": "stream",
     "text": [
      "0\n",
      "1\n",
      "2\n",
      "3\n",
      "4\n",
      "5\n",
      "6\n",
      "7\n",
      "8\n",
      "9\n"
     ]
    }
   ],
   "source": [
    "for i in range(10):\n",
    "    print(i)"
   ]
  },
  {
   "cell_type": "code",
   "execution_count": 21,
   "id": "443218cc-739a-4515-a9b4-6f1eb8711bca",
   "metadata": {
    "tags": []
   },
   "outputs": [],
   "source": [
    "# Verificador de número pares"
   ]
  },
  {
   "cell_type": "code",
   "execution_count": 22,
   "id": "b6cede63-8399-4a79-a4c9-0c0c9f497ff5",
   "metadata": {
    "tags": []
   },
   "outputs": [
    {
     "name": "stdout",
     "output_type": "stream",
     "text": [
      "Número 0 é par.\n",
      "Número 2 é par.\n",
      "Número 4 é par.\n",
      "Número 6 é par.\n",
      "Número 8 é par.\n",
      "Número 10 é par.\n",
      "Número 12 é par.\n",
      "Número 14 é par.\n",
      "Número 16 é par.\n",
      "Número 18 é par.\n",
      "Número 20 é par.\n",
      "Número 22 é par.\n",
      "Número 24 é par.\n",
      "Número 26 é par.\n",
      "Número 28 é par.\n",
      "Número 30 é par.\n",
      "Número 32 é par.\n",
      "Número 34 é par.\n",
      "Número 36 é par.\n",
      "Número 38 é par.\n",
      "Número 40 é par.\n",
      "Número 42 é par.\n",
      "Número 44 é par.\n",
      "Número 46 é par.\n",
      "Número 48 é par.\n",
      "Número 50 é par.\n",
      "Número 52 é par.\n",
      "Número 54 é par.\n",
      "Número 56 é par.\n",
      "Número 58 é par.\n",
      "Número 60 é par.\n",
      "Número 62 é par.\n",
      "Número 64 é par.\n",
      "Número 66 é par.\n",
      "Número 68 é par.\n",
      "Número 70 é par.\n",
      "Número 72 é par.\n",
      "Número 74 é par.\n",
      "Número 76 é par.\n",
      "Número 78 é par.\n",
      "Número 80 é par.\n",
      "Número 82 é par.\n",
      "Número 84 é par.\n",
      "Número 86 é par.\n",
      "Número 88 é par.\n",
      "Número 90 é par.\n",
      "Número 92 é par.\n",
      "Número 94 é par.\n",
      "Número 96 é par.\n",
      "Número 98 é par.\n"
     ]
    }
   ],
   "source": [
    "for i in range(100):\n",
    "    if i % 2 == 0:\n",
    "        print(\"Número {} é par.\".format(i))"
   ]
  },
  {
   "cell_type": "code",
   "execution_count": 23,
   "id": "20db38cf-701b-4679-bb92-37474773c81a",
   "metadata": {
    "tags": []
   },
   "outputs": [],
   "source": [
    "# While"
   ]
  },
  {
   "cell_type": "code",
   "execution_count": 24,
   "id": "5f933264-9918-4385-99ca-58d1700c20e4",
   "metadata": {
    "tags": []
   },
   "outputs": [
    {
     "name": "stdout",
     "output_type": "stream",
     "text": [
      "O valor de x é: 0\n",
      "O valor de x é: 1\n",
      "O valor de x é: 2\n",
      "O valor de x é: 3\n",
      "O valor de x é: 4\n",
      "O valor de x é: 5\n",
      "O valor de x é: 6\n",
      "O valor de x é: 7\n",
      "O valor de x é: 8\n",
      "O valor de x é: 9\n",
      "O valor de x é: 10\n"
     ]
    }
   ],
   "source": [
    "x = 0\n",
    "\n",
    "while x <= 10:\n",
    "    print(\"O valor de x é: {}\".format(x))\n",
    "    x = x + 1"
   ]
  },
  {
   "cell_type": "code",
   "execution_count": 26,
   "id": "7d3d82b8-590e-4088-b313-779f32c578ee",
   "metadata": {
    "tags": []
   },
   "outputs": [],
   "source": [
    "# Funções"
   ]
  },
  {
   "cell_type": "code",
   "execution_count": 27,
   "id": "d15dc4d5-8bbc-4e33-87a9-808ee6077e34",
   "metadata": {
    "tags": []
   },
   "outputs": [],
   "source": [
    "def soma_numeros(x,y):\n",
    "    return x + y"
   ]
  },
  {
   "cell_type": "code",
   "execution_count": 28,
   "id": "5900854f-2fc1-44fb-8618-56e0d34cd5e8",
   "metadata": {
    "tags": []
   },
   "outputs": [
    {
     "data": {
      "text/plain": [
       "3"
      ]
     },
     "execution_count": 28,
     "metadata": {},
     "output_type": "execute_result"
    }
   ],
   "source": [
    "soma_numeros(1,2)"
   ]
  }
 ],
 "metadata": {
  "kernelspec": {
   "display_name": "Python 3 (ipykernel)",
   "language": "python",
   "name": "python3"
  },
  "language_info": {
   "codemirror_mode": {
    "name": "ipython",
    "version": 3
   },
   "file_extension": ".py",
   "mimetype": "text/x-python",
   "name": "python",
   "nbconvert_exporter": "python",
   "pygments_lexer": "ipython3",
   "version": "3.11.5"
  }
 },
 "nbformat": 4,
 "nbformat_minor": 5
}
