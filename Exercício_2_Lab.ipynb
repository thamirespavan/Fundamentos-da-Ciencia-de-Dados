{
 "cells": [
  {
   "cell_type": "markdown",
   "metadata": {
    "id": "ZJEg1juym-c1"
   },
   "source": [
    "**Exercício 1**"
   ]
  },
  {
   "cell_type": "code",
   "execution_count": null,
   "metadata": {
    "colab": {
     "base_uri": "https://localhost:8080/"
    },
    "id": "nF7lgsC2nLKX",
    "outputId": "f66bf670-461d-4944-a180-e283f1caf699"
   },
   "outputs": [
    {
     "name": "stdout",
     "output_type": "stream",
     "text": [
      "Meu nome é Thamires, tenho 21 anos e minha altura é 1,60 metros.\n"
     ]
    }
   ],
   "source": [
    "# Crie uma variável chamada nome e atribua o seu nome a ela.\n",
    "nome = \"Thamires\"\n",
    "# Crie uma variável chamada idade e atribua sua idade a ela.\n",
    "idade = \"21\"\n",
    "# Crie uma variável chamada altura e atribua sua altura (em metros) a ela.\n",
    "altura = \"1,60\"\n",
    "# Mostre na tela a concatenação das informações: \"Meu nome é [nome], tenho [idade] anos e minha altura é [altura] metros.\"\n",
    "print(\"Meu nome é {a}, tenho {b} anos e minha altura é {c} metros.\".format(a = nome, b = idade, c = altura))"
   ]
  },
  {
   "cell_type": "markdown",
   "metadata": {
    "id": "2Jz4rghCoO7E"
   },
   "source": [
    "**Exercício 2**"
   ]
  },
  {
   "cell_type": "code",
   "execution_count": null,
   "metadata": {
    "colab": {
     "base_uri": "https://localhost:8080/"
    },
    "id": "dEgeiPb2oSFI",
    "outputId": "0646aa82-c24d-40e1-f343-93e82a719499"
   },
   "outputs": [
    {
     "name": "stdout",
     "output_type": "stream",
     "text": [
      "PYTHON É UMA LINGUAGEM DE PROGRAMAÇÃO MUITO PODEROSA.\n"
     ]
    }
   ],
   "source": [
    "# Crie uma variável chamada frase e atribua a seguinte frase a ela:\n",
    "# \"Python é uma linguagem de programação muito poderosa.\"\n",
    "\n",
    "frase = \"Python é uma linguagem de programação muito poderosa.\"\n",
    "\n",
    "# Utilize o método .upper() para transformar toda a frase em maiúsculas e imprima o resultado.\n",
    "print(frase.upper())"
   ]
  },
  {
   "cell_type": "code",
   "execution_count": null,
   "metadata": {
    "colab": {
     "base_uri": "https://localhost:8080/"
    },
    "id": "PdPo4yB9pQdE",
    "outputId": "04f85476-a540-4f8b-c243-10445634ce99"
   },
   "outputs": [
    {
     "name": "stdout",
     "output_type": "stream",
     "text": [
      "python é uma linguagem de programação muito poderosa.\n"
     ]
    }
   ],
   "source": [
    "# Utilize o método .lower() para transformar toda a frase em minúsculas e imprima o resultado.\n",
    "print(frase.lower())"
   ]
  },
  {
   "cell_type": "code",
   "execution_count": null,
   "metadata": {
    "colab": {
     "base_uri": "https://localhost:8080/"
    },
    "id": "doH_905Dpm_B",
    "outputId": "66c5635b-5590-4c78-b29c-c3480c42518e"
   },
   "outputs": [
    {
     "name": "stdout",
     "output_type": "stream",
     "text": [
      "Python é uma linguagem de programação extremamente poderosa.\n"
     ]
    }
   ],
   "source": [
    "# Utilize o método .replace() para substituir a palavra \"muito\" por \"extremamente\". Imprima o resultado.\n",
    "print(frase.replace(\"muito\",\"extremamente\"))"
   ]
  },
  {
   "cell_type": "code",
   "execution_count": null,
   "metadata": {
    "colab": {
     "base_uri": "https://localhost:8080/"
    },
    "id": "WPYG_jsZqJXs",
    "outputId": "3dd47785-1836-4c8d-defc-7ca31bc1f48b"
   },
   "outputs": [
    {
     "data": {
      "text/plain": [
       "['Python', 'é', 'uma', 'linguagem', 'de', 'programação', 'muito', 'poderosa.']"
      ]
     },
     "execution_count": 18,
     "metadata": {},
     "output_type": "execute_result"
    }
   ],
   "source": [
    "# Utilize o método .split() para dividir a frase em palavras e imprima o resultado como uma lista.\n",
    "frase.split()"
   ]
  },
  {
   "cell_type": "markdown",
   "metadata": {
    "id": "O_Uln3IHqnh-"
   },
   "source": [
    "**Exercício 3**"
   ]
  },
  {
   "cell_type": "code",
   "execution_count": null,
   "metadata": {
    "colab": {
     "base_uri": "https://localhost:8080/"
    },
    "id": "lEqT-Nssqm3S",
    "outputId": "c95c0af6-3ac1-44f9-f791-24756354eb9a"
   },
   "outputs": [
    {
     "name": "stdout",
     "output_type": "stream",
     "text": [
      "['maçã', 'banana', 'laranja', 'uva', 'abacaxi']\n"
     ]
    }
   ],
   "source": [
    "# Crie uma lista chamada frutas contendo os seguintes itens: \"maçã\", \"banana\", \"laranja\", \"uva\", \"abacaxi\".\n",
    "frutas = [\"maçã\",\"banana\",\"laranja\",\"uva\",\"abacaxi\"]\n",
    "# Imprima a lista frutas.\n",
    "print(frutas)"
   ]
  },
  {
   "cell_type": "code",
   "execution_count": null,
   "metadata": {
    "colab": {
     "base_uri": "https://localhost:8080/"
    },
    "id": "UXUYEdFkrBAR",
    "outputId": "fc443126-fe5c-4f50-b464-263d62f3c2bf"
   },
   "outputs": [
    {
     "name": "stdout",
     "output_type": "stream",
     "text": [
      "['maçã', 'banana', 'laranja', 'uva', 'abacaxi', 'manga']\n"
     ]
    }
   ],
   "source": [
    "# Adicione o item \"manga\" à lista frutas utilizando o método .append() e imprima a lista novamente.\n",
    "frutas.append(\"manga\")\n",
    "print(frutas)"
   ]
  },
  {
   "cell_type": "code",
   "execution_count": null,
   "metadata": {
    "colab": {
     "base_uri": "https://localhost:8080/"
    },
    "id": "67JghuAarSId",
    "outputId": "f77cb537-dd80-4906-917a-43791eb26645"
   },
   "outputs": [
    {
     "name": "stdout",
     "output_type": "stream",
     "text": [
      "['maçã', 'banana', 'uva', 'abacaxi', 'manga']\n"
     ]
    }
   ],
   "source": [
    "# Remova o item \"laranja\" da lista frutas utilizando o método .remove() e imprima a lista.\n",
    "frutas.remove(\"laranja\")\n",
    "print(frutas)"
   ]
  },
  {
   "cell_type": "code",
   "execution_count": null,
   "metadata": {
    "colab": {
     "base_uri": "https://localhost:8080/",
     "height": 36
    },
    "id": "yXHlWuiBrmek",
    "outputId": "add81e0e-9d9e-4d79-c0aa-ca5e124bd1e1"
   },
   "outputs": [
    {
     "data": {
      "application/vnd.google.colaboratory.intrinsic+json": {
       "type": "string"
      },
      "text/plain": [
       "'uva'"
      ]
     },
     "execution_count": 23,
     "metadata": {},
     "output_type": "execute_result"
    }
   ],
   "source": [
    "# Acesse o terceiro item da lista frutas (lembrando que as listas começam em 0) e imprima-o.\n",
    "frutas[2]"
   ]
  },
  {
   "cell_type": "code",
   "execution_count": null,
   "metadata": {
    "colab": {
     "base_uri": "https://localhost:8080/"
    },
    "id": "ZW-GBpbyr7UR",
    "outputId": "8a3920ce-a710-4d18-e346-dfdfe2df352f"
   },
   "outputs": [
    {
     "name": "stdout",
     "output_type": "stream",
     "text": [
      "['abacaxi', 'banana', 'manga', 'maçã', 'uva']\n"
     ]
    }
   ],
   "source": [
    "# Ordene a lista frutas em ordem alfabética utilizando o método .sort() e imprima a lista.\n",
    "frutas.sort()\n",
    "print(frutas)"
   ]
  },
  {
   "cell_type": "code",
   "execution_count": null,
   "metadata": {
    "colab": {
     "base_uri": "https://localhost:8080/"
    },
    "id": "9muHqXVVsWDD",
    "outputId": "cfa45678-86c3-41ac-9c65-9530994f237c"
   },
   "outputs": [
    {
     "data": {
      "text/plain": [
       "32"
      ]
     },
     "execution_count": 25,
     "metadata": {},
     "output_type": "execute_result"
    }
   ],
   "source": [
    "# Crie uma lista chamada numeros com os valores [10, 5, 8, 3, 6]. Utilize a função sum() para calcular a soma de todos os elementos dessa lista e imprima o resultado.\n",
    "numeros = [10,5,8,3,6]\n",
    "sum(numeros)"
   ]
  },
  {
   "cell_type": "markdown",
   "metadata": {
    "tags": []
   },
   "source": [
    "**Exercício 4**"
   ]
  },
  {
   "cell_type": "code",
   "execution_count": 5,
   "metadata": {
    "tags": []
   },
   "outputs": [
    {
     "data": {
      "text/plain": [
       "{'nome': 'Carlos', 'idade': 30, 'cidade': ' São Paulo'}"
      ]
     },
     "execution_count": 5,
     "metadata": {},
     "output_type": "execute_result"
    }
   ],
   "source": [
    "#Crie um dicionário chamado pessoa com as seguintes chaves e valores: \"nome\": \"Carlos\" \"idade\": 30 \"cidade\": \"São Paulo\"\n",
    "pessoa = {\"nome\" : \"Carlos\", \"idade\":30, \"cidade\":\" São Paulo\"}\n",
    "# Imprima o dicionário pessoa.\n",
    "pessoa"
   ]
  },
  {
   "cell_type": "code",
   "execution_count": 6,
   "metadata": {
    "tags": []
   },
   "outputs": [
    {
     "data": {
      "text/plain": [
       "'Carlos'"
      ]
     },
     "execution_count": 6,
     "metadata": {},
     "output_type": "execute_result"
    }
   ],
   "source": [
    "# Acesse e imprima o valor associado à chave \"nome\".\n",
    "pessoa[\"nome\"]"
   ]
  },
  {
   "cell_type": "code",
   "execution_count": 7,
   "metadata": {
    "tags": []
   },
   "outputs": [
    {
     "data": {
      "text/plain": [
       "{'nome': 'Carlos', 'idade': 31, 'cidade': ' São Paulo'}"
      ]
     },
     "execution_count": 7,
     "metadata": {},
     "output_type": "execute_result"
    }
   ],
   "source": [
    "#Altere a idade de \"Carlos\" para 31 e imprima o dicionário novamente.\n",
    "pessoa[\"idade\"] = 31\n",
    "pessoa"
   ]
  },
  {
   "cell_type": "code",
   "execution_count": 8,
   "metadata": {
    "tags": []
   },
   "outputs": [
    {
     "data": {
      "text/plain": [
       "{'nome': 'Carlos',\n",
       " 'idade': 31,\n",
       " 'cidade': ' São Paulo',\n",
       " 'profissão': 'Engenheiro'}"
      ]
     },
     "execution_count": 8,
     "metadata": {},
     "output_type": "execute_result"
    }
   ],
   "source": [
    "# Adicione uma nova chave \"profissão\" ao dicionário com o valor \"engenheiro\". Imprima o dicionário atualizado.\n",
    "pessoa[\"profissão\"] = \"Engenheiro\"\n",
    "pessoa"
   ]
  },
  {
   "cell_type": "code",
   "execution_count": 13,
   "metadata": {
    "tags": []
   },
   "outputs": [
    {
     "data": {
      "text/plain": [
       "{'nome': 'Carlos', 'idade': 31, 'profissão': 'Engenheiro'}"
      ]
     },
     "execution_count": 13,
     "metadata": {},
     "output_type": "execute_result"
    }
   ],
   "source": [
    "# Remova a chave \"cidade\" do dicionário e imprima o dicionário após a remoção.\n",
    "pessoa.pop(\"cidade\")\n",
    "pessoa"
   ]
  },
  {
   "cell_type": "code",
   "execution_count": 14,
   "metadata": {
    "tags": []
   },
   "outputs": [
    {
     "data": {
      "text/plain": [
       "dict_keys(['nome', 'idade', 'profissão'])"
      ]
     },
     "execution_count": 14,
     "metadata": {},
     "output_type": "execute_result"
    }
   ],
   "source": [
    "# Utilize o método .keys() para imprimir todas as chaves do dicionário.\n",
    "pessoa.keys()"
   ]
  },
  {
   "cell_type": "code",
   "execution_count": 15,
   "metadata": {
    "tags": []
   },
   "outputs": [
    {
     "data": {
      "text/plain": [
       "dict_values(['Carlos', 31, 'Engenheiro'])"
      ]
     },
     "execution_count": 15,
     "metadata": {},
     "output_type": "execute_result"
    }
   ],
   "source": [
    "# Utilize o método .values() para imprimir todos os valores do dicionário.\n",
    "pessoa.values()"
   ]
  },
  {
   "cell_type": "markdown",
   "metadata": {},
   "source": [
    "**Exercício 5**"
   ]
  },
  {
   "cell_type": "code",
   "execution_count": 5,
   "metadata": {
    "tags": []
   },
   "outputs": [
    {
     "data": {
      "text/plain": [
       "['vermelho', 'azul', 'verde', 'amarelo', 'roxo']"
      ]
     },
     "execution_count": 5,
     "metadata": {},
     "output_type": "execute_result"
    }
   ],
   "source": [
    "# Crie uma tupla chamada cores contendo as seguintes cores: \"vermelho\", \"azul\", \"verde\", \"amarelo\", \"roxo\".\n",
    "cores = [\"vermelho\", \"azul\", \"verde\", \"amarelo\", \"roxo\"]\n",
    "# Imprima a tupla cores.\n",
    "cores"
   ]
  },
  {
   "cell_type": "code",
   "execution_count": 18,
   "metadata": {
    "tags": []
   },
   "outputs": [
    {
     "data": {
      "text/plain": [
       "'verde'"
      ]
     },
     "execution_count": 18,
     "metadata": {},
     "output_type": "execute_result"
    }
   ],
   "source": [
    "# Acesse e imprima o segundo item da tupla cores.\n",
    "cores[2]"
   ]
  },
  {
   "cell_type": "code",
   "execution_count": 19,
   "metadata": {
    "tags": []
   },
   "outputs": [
    {
     "data": {
      "text/plain": [
       "True"
      ]
     },
     "execution_count": 19,
     "metadata": {},
     "output_type": "execute_result"
    }
   ],
   "source": [
    "# Verifique se a cor \"azul\" está presente na tupla cores e imprima True ou False dependendo da resposta.\n",
    "\"azul\" in cores"
   ]
  },
  {
   "cell_type": "code",
   "execution_count": 2,
   "metadata": {
    "tags": []
   },
   "outputs": [
    {
     "data": {
      "text/plain": [
       "(1, 2, 3, 4, 5)"
      ]
     },
     "execution_count": 2,
     "metadata": {},
     "output_type": "execute_result"
    }
   ],
   "source": [
    "# Crie uma tupla chamada numeros contendo os números (1, 2, 3, 4, 5).\n",
    "numeros = (1,2,3,4,5)\n",
    "numeros"
   ]
  },
  {
   "cell_type": "code",
   "execution_count": 3,
   "metadata": {
    "tags": []
   },
   "outputs": [
    {
     "data": {
      "text/plain": [
       "15"
      ]
     },
     "execution_count": 3,
     "metadata": {},
     "output_type": "execute_result"
    }
   ],
   "source": [
    "# Some todos os elementos da tupla numeros e imprima o resultado.\n",
    "sum(numeros)"
   ]
  },
  {
   "cell_type": "code",
   "execution_count": 9,
   "metadata": {
    "tags": []
   },
   "outputs": [
    {
     "data": {
      "text/plain": [
       "['vermelho', 'azul', 'verde', 'Laranja', 'roxo']"
      ]
     },
     "execution_count": 9,
     "metadata": {},
     "output_type": "execute_result"
    }
   ],
   "source": [
    "# Tente alterar o valor do terceiro item da tupla cores para \"laranja\". O que acontece? Explique por que não é possível alterar um valor em uma tupla.\n",
    "cores[3] = \"Laranja\"\n",
    "cores"
   ]
  },
  {
   "cell_type": "code",
   "execution_count": null,
   "metadata": {},
   "outputs": [],
   "source": [
    "# Crie uma nova tupla chamada nova_cores que seja a concatenação da tupla cores com uma nova tupla (\"preto\", \"branco\") e imprima o resultado.\n"
   ]
  },
  {
   "cell_type": "markdown",
   "metadata": {
    "id": "VdP5wvc8sq1T"
   },
   "source": [
    "**Exercício 6**"
   ]
  },
  {
   "cell_type": "code",
   "execution_count": null,
   "metadata": {
    "colab": {
     "base_uri": "https://localhost:8080/"
    },
    "id": "qNZozn_bsu2X",
    "outputId": "39657e51-12c9-455d-dfc0-b1df3ce6d36c"
   },
   "outputs": [
    {
     "name": "stdout",
     "output_type": "stream",
     "text": [
      "Digite sua altura (em m):\n",
      "1.60\n",
      "Digite seu peso (em kg):\n",
      "60\n",
      "O seu IMC é: 23.44\n"
     ]
    }
   ],
   "source": [
    "# Crie um programa que receba a altura e o peso de uma pessoa e imprima seu IMC.\n",
    "print(\"Digite sua altura (em m):\")\n",
    "altura = input()\n",
    "print(\"Digite seu peso (em kg):\")\n",
    "peso = input()\n",
    "IMC = float(peso)/(float(altura) ** 2)\n",
    "print(\"O seu IMC é:\",round(IMC,2))"
   ]
  },
  {
   "cell_type": "markdown",
   "metadata": {
    "id": "OS31X5A_y6dm"
   },
   "source": [
    "**Exercício 7**"
   ]
  },
  {
   "cell_type": "code",
   "execution_count": null,
   "metadata": {
    "colab": {
     "base_uri": "https://localhost:8080/"
    },
    "id": "geVVJsc7y5zy",
    "outputId": "9d64cc42-fa98-43eb-f9ba-16253f1b1706"
   },
   "outputs": [
    {
     "name": "stdout",
     "output_type": "stream",
     "text": [
      "Digite o seu nome completo:\n",
      "Thamires Butzke Pavan\n",
      "Olá, Thamires\n"
     ]
    }
   ],
   "source": [
    "#Escreva um programa que pergunte o nome completo do usuário e o cumprimente pelo primeiro nome.\n",
    "print(\"Digite o seu nome completo:\")\n",
    "nome = input()\n",
    "lista = nome.split()\n",
    "print(\"Olá,\", lista[0])"
   ]
  },
  {
   "cell_type": "markdown",
   "metadata": {
    "id": "sQMmR-HvzL0v"
   },
   "source": [
    "**Exercício 8**"
   ]
  },
  {
   "cell_type": "code",
   "execution_count": null,
   "metadata": {
    "colab": {
     "base_uri": "https://localhost:8080/"
    },
    "id": "cjULJIZSzObq",
    "outputId": "c6e8e196-8318-4781-f3f6-574bb1da24bb"
   },
   "outputs": [
    {
     "name": "stdout",
     "output_type": "stream",
     "text": [
      "Digite o seu e-mail:\n",
      "thamirespavan14@gmail.com\n",
      "O domínio do seu e-mail é: gmail.com\n"
     ]
    }
   ],
   "source": [
    "#Escreva um código que extraia o domínio de um e-mail informado.\n",
    "print(\"Digite o seu e-mail:\")\n",
    "email = input()\n",
    "email_separado = email.split(\"@\")\n",
    "print(\"O domínio do seu e-mail é:\",email_separado[1])"
   ]
  },
  {
   "cell_type": "markdown",
   "metadata": {},
   "source": [
    "**Exercício 9**"
   ]
  },
  {
   "cell_type": "code",
   "execution_count": 30,
   "metadata": {
    "tags": []
   },
   "outputs": [
    {
     "name": "stdout",
     "output_type": "stream",
     "text": [
      "Quanto você ganha por hora? (em R$)\n"
     ]
    },
    {
     "name": "stdin",
     "output_type": "stream",
     "text": [
      " 400.00\n"
     ]
    },
    {
     "name": "stdout",
     "output_type": "stream",
     "text": [
      "Quantas horas você trabalha no mês?\n"
     ]
    },
    {
     "name": "stdin",
     "output_type": "stream",
     "text": [
      " 2\n"
     ]
    }
   ],
   "source": [
    "# Faça um programa que pergunte quanto você ganha por hora e o número de horas trabalhadas no mês. \n",
    "print(\"Quanto você ganha por hora? (em R$)\")\n",
    "ganhos = float(input())\n",
    "print(\"Quantas horas você trabalha no mês?\")\n",
    "horas = float(input())"
   ]
  },
  {
   "cell_type": "code",
   "execution_count": 31,
   "metadata": {
    "tags": []
   },
   "outputs": [
    {
     "name": "stdout",
     "output_type": "stream",
     "text": [
      "Salário bruto: R$800.00\n",
      "Valor pago ao INSS: R$64.00\n",
      "Valor pago ao Sindicato: R$40.00\n",
      "Salário líquido: R$608.00\n"
     ]
    }
   ],
   "source": [
    "# Calcule e mostre o total do seu salário no referido mês, sabendo-se que são descontados 11% para o imposto de renda, 8% para o INSS e 5% para o sindicato. \n",
    "# O programa deve mostrar: salário bruto, quanto pagou ao INSS, quanto pagou ao sindicato, salário líquido.\n",
    "salario_bruto = ganhos*horas\n",
    "Imp_renda = 0.11*salario_bruto\n",
    "INSS = 0.08*salario_bruto\n",
    "Sind = 0.05*salario_bruto\n",
    "salario_liquid = salario_bruto - Imp_renda - INSS - Sind\n",
    "\n",
    "print(\"Salário bruto: R${:.2f}\".format(salario_bruto))\n",
    "print(\"Valor pago ao INSS: R${:.2f}\".format(INSS))\n",
    "print(\"Valor pago ao Sindicato: R${:.2f}\".format(Sind))\n",
    "print(\"Salário líquido: R${:.2f}\".format(salario_liquid))"
   ]
  }
 ],
 "metadata": {
  "colab": {
   "provenance": []
  },
  "kernelspec": {
   "display_name": "Python 3 (ipykernel)",
   "language": "python",
   "name": "python3"
  },
  "language_info": {
   "codemirror_mode": {
    "name": "ipython",
    "version": 3
   },
   "file_extension": ".py",
   "mimetype": "text/x-python",
   "name": "python",
   "nbconvert_exporter": "python",
   "pygments_lexer": "ipython3",
   "version": "3.11.5"
  }
 },
 "nbformat": 4,
 "nbformat_minor": 4
}
