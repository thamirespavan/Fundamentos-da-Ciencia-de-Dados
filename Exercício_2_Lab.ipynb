{
  "nbformat": 4,
  "nbformat_minor": 0,
  "metadata": {
    "colab": {
      "provenance": []
    },
    "kernelspec": {
      "name": "python3",
      "display_name": "Python 3"
    },
    "language_info": {
      "name": "python"
    }
  },
  "cells": [
    {
      "cell_type": "markdown",
      "source": [
        "**Exercício 1**"
      ],
      "metadata": {
        "id": "ZJEg1juym-c1"
      }
    },
    {
      "cell_type": "code",
      "source": [
        "# Crie uma variável chamada nome e atribua o seu nome a ela.\n",
        "nome = \"Thamires\"\n",
        "# Crie uma variável chamada idade e atribua sua idade a ela.\n",
        "idade = \"21\"\n",
        "# Crie uma variável chamada altura e atribua sua altura (em metros) a ela.\n",
        "altura = \"1,60\"\n",
        "# Mostre na tela a concatenação das informações: \"Meu nome é [nome], tenho [idade] anos e minha altura é [altura] metros.\"\n",
        "print(\"Meu nome é {a}, tenho {b} anos e minha altura é {c} metros.\".format(a = nome, b = idade, c = altura))"
      ],
      "metadata": {
        "colab": {
          "base_uri": "https://localhost:8080/"
        },
        "id": "nF7lgsC2nLKX",
        "outputId": "f66bf670-461d-4944-a180-e283f1caf699"
      },
      "execution_count": 2,
      "outputs": [
        {
          "output_type": "stream",
          "name": "stdout",
          "text": [
            "Meu nome é Thamires, tenho 21 anos e minha altura é 1,60 metros.\n"
          ]
        }
      ]
    },
    {
      "cell_type": "markdown",
      "source": [
        "**Exercício 2**"
      ],
      "metadata": {
        "id": "2Jz4rghCoO7E"
      }
    },
    {
      "cell_type": "code",
      "source": [
        "# Crie uma variável chamada frase e atribua a seguinte frase a ela:\n",
        "# \"Python é uma linguagem de programação muito poderosa.\"\n",
        "\n",
        "frase = \"Python é uma linguagem de programação muito poderosa.\"\n",
        "\n",
        "# Utilize o método .upper() para transformar toda a frase em maiúsculas e imprima o resultado.\n",
        "print(frase.upper())"
      ],
      "metadata": {
        "colab": {
          "base_uri": "https://localhost:8080/"
        },
        "id": "dEgeiPb2oSFI",
        "outputId": "0646aa82-c24d-40e1-f343-93e82a719499"
      },
      "execution_count": 10,
      "outputs": [
        {
          "output_type": "stream",
          "name": "stdout",
          "text": [
            "PYTHON É UMA LINGUAGEM DE PROGRAMAÇÃO MUITO PODEROSA.\n"
          ]
        }
      ]
    },
    {
      "cell_type": "code",
      "source": [
        "# Utilize o método .lower() para transformar toda a frase em minúsculas e imprima o resultado.\n",
        "print(frase.lower())"
      ],
      "metadata": {
        "colab": {
          "base_uri": "https://localhost:8080/"
        },
        "id": "PdPo4yB9pQdE",
        "outputId": "04f85476-a540-4f8b-c243-10445634ce99"
      },
      "execution_count": 11,
      "outputs": [
        {
          "output_type": "stream",
          "name": "stdout",
          "text": [
            "python é uma linguagem de programação muito poderosa.\n"
          ]
        }
      ]
    },
    {
      "cell_type": "code",
      "source": [
        "# Utilize o método .replace() para substituir a palavra \"muito\" por \"extremamente\". Imprima o resultado.\n",
        "print(frase.replace(\"muito\",\"extremamente\"))"
      ],
      "metadata": {
        "colab": {
          "base_uri": "https://localhost:8080/"
        },
        "id": "doH_905Dpm_B",
        "outputId": "66c5635b-5590-4c78-b29c-c3480c42518e"
      },
      "execution_count": 17,
      "outputs": [
        {
          "output_type": "stream",
          "name": "stdout",
          "text": [
            "Python é uma linguagem de programação extremamente poderosa.\n"
          ]
        }
      ]
    },
    {
      "cell_type": "code",
      "source": [
        "# Utilize o método .split() para dividir a frase em palavras e imprima o resultado como uma lista.\n",
        "frase.split()"
      ],
      "metadata": {
        "colab": {
          "base_uri": "https://localhost:8080/"
        },
        "id": "WPYG_jsZqJXs",
        "outputId": "3dd47785-1836-4c8d-defc-7ca31bc1f48b"
      },
      "execution_count": 18,
      "outputs": [
        {
          "output_type": "execute_result",
          "data": {
            "text/plain": [
              "['Python', 'é', 'uma', 'linguagem', 'de', 'programação', 'muito', 'poderosa.']"
            ]
          },
          "metadata": {},
          "execution_count": 18
        }
      ]
    },
    {
      "cell_type": "markdown",
      "source": [
        "**Exercício 3**"
      ],
      "metadata": {
        "id": "O_Uln3IHqnh-"
      }
    },
    {
      "cell_type": "code",
      "source": [
        "# Crie uma lista chamada frutas contendo os seguintes itens: \"maçã\", \"banana\", \"laranja\", \"uva\", \"abacaxi\".\n",
        "frutas = [\"maçã\",\"banana\",\"laranja\",\"uva\",\"abacaxi\"]\n",
        "# Imprima a lista frutas.\n",
        "print(frutas)"
      ],
      "metadata": {
        "colab": {
          "base_uri": "https://localhost:8080/"
        },
        "id": "lEqT-Nssqm3S",
        "outputId": "c95c0af6-3ac1-44f9-f791-24756354eb9a"
      },
      "execution_count": 19,
      "outputs": [
        {
          "output_type": "stream",
          "name": "stdout",
          "text": [
            "['maçã', 'banana', 'laranja', 'uva', 'abacaxi']\n"
          ]
        }
      ]
    },
    {
      "cell_type": "code",
      "source": [
        "# Adicione o item \"manga\" à lista frutas utilizando o método .append() e imprima a lista novamente.\n",
        "frutas.append(\"manga\")\n",
        "print(frutas)"
      ],
      "metadata": {
        "colab": {
          "base_uri": "https://localhost:8080/"
        },
        "id": "UXUYEdFkrBAR",
        "outputId": "fc443126-fe5c-4f50-b464-263d62f3c2bf"
      },
      "execution_count": 20,
      "outputs": [
        {
          "output_type": "stream",
          "name": "stdout",
          "text": [
            "['maçã', 'banana', 'laranja', 'uva', 'abacaxi', 'manga']\n"
          ]
        }
      ]
    },
    {
      "cell_type": "code",
      "source": [
        "# Remova o item \"laranja\" da lista frutas utilizando o método .remove() e imprima a lista.\n",
        "frutas.remove(\"laranja\")\n",
        "print(frutas)"
      ],
      "metadata": {
        "colab": {
          "base_uri": "https://localhost:8080/"
        },
        "id": "67JghuAarSId",
        "outputId": "f77cb537-dd80-4906-917a-43791eb26645"
      },
      "execution_count": 22,
      "outputs": [
        {
          "output_type": "stream",
          "name": "stdout",
          "text": [
            "['maçã', 'banana', 'uva', 'abacaxi', 'manga']\n"
          ]
        }
      ]
    },
    {
      "cell_type": "code",
      "source": [
        "# Acesse o terceiro item da lista frutas (lembrando que as listas começam em 0) e imprima-o.\n",
        "frutas[2]"
      ],
      "metadata": {
        "colab": {
          "base_uri": "https://localhost:8080/",
          "height": 36
        },
        "id": "yXHlWuiBrmek",
        "outputId": "add81e0e-9d9e-4d79-c0aa-ca5e124bd1e1"
      },
      "execution_count": 23,
      "outputs": [
        {
          "output_type": "execute_result",
          "data": {
            "text/plain": [
              "'uva'"
            ],
            "application/vnd.google.colaboratory.intrinsic+json": {
              "type": "string"
            }
          },
          "metadata": {},
          "execution_count": 23
        }
      ]
    },
    {
      "cell_type": "code",
      "source": [
        "# Ordene a lista frutas em ordem alfabética utilizando o método .sort() e imprima a lista.\n",
        "frutas.sort()\n",
        "print(frutas)"
      ],
      "metadata": {
        "colab": {
          "base_uri": "https://localhost:8080/"
        },
        "id": "ZW-GBpbyr7UR",
        "outputId": "8a3920ce-a710-4d18-e346-dfdfe2df352f"
      },
      "execution_count": 24,
      "outputs": [
        {
          "output_type": "stream",
          "name": "stdout",
          "text": [
            "['abacaxi', 'banana', 'manga', 'maçã', 'uva']\n"
          ]
        }
      ]
    },
    {
      "cell_type": "code",
      "source": [
        "# Crie uma lista chamada numeros com os valores [10, 5, 8, 3, 6]. Utilize a função sum() para calcular a soma de todos os elementos dessa lista e imprima o resultado.\n",
        "numeros = [10,5,8,3,6]\n",
        "sum(numeros)"
      ],
      "metadata": {
        "colab": {
          "base_uri": "https://localhost:8080/"
        },
        "id": "9muHqXVVsWDD",
        "outputId": "cfa45678-86c3-41ac-9c65-9530994f237c"
      },
      "execution_count": 25,
      "outputs": [
        {
          "output_type": "execute_result",
          "data": {
            "text/plain": [
              "32"
            ]
          },
          "metadata": {},
          "execution_count": 25
        }
      ]
    },
    {
      "cell_type": "code",
      "source": [],
      "metadata": {
        "colab": {
          "base_uri": "https://localhost:8080/"
        },
        "id": "3QEExpEpunZ6",
        "outputId": "1fa2e729-b1a5-46b6-82f9-df95233a386e"
      },
      "execution_count": 29,
      "outputs": [
        {
          "output_type": "execute_result",
          "data": {
            "text/plain": [
              "25"
            ]
          },
          "metadata": {},
          "execution_count": 29
        }
      ]
    },
    {
      "cell_type": "markdown",
      "source": [
        "**Exercício 6**"
      ],
      "metadata": {
        "id": "VdP5wvc8sq1T"
      }
    },
    {
      "cell_type": "code",
      "source": [
        "# Crie um programa que receba a altura e o peso de uma pessoa e imprima seu IMC.\n",
        "print(\"Digite sua altura (em m):\")\n",
        "altura = input()\n",
        "print(\"Digite seu peso (em kg):\")\n",
        "peso = input()\n",
        "IMC = float(peso)/(float(altura) ** 2)\n",
        "print(\"O seu IMC é:\",round(IMC,2))"
      ],
      "metadata": {
        "colab": {
          "base_uri": "https://localhost:8080/"
        },
        "id": "qNZozn_bsu2X",
        "outputId": "39657e51-12c9-455d-dfc0-b1df3ce6d36c"
      },
      "execution_count": 57,
      "outputs": [
        {
          "output_type": "stream",
          "name": "stdout",
          "text": [
            "Digite sua altura (em m):\n",
            "1.60\n",
            "Digite seu peso (em kg):\n",
            "60\n",
            "O seu IMC é: 23.44\n"
          ]
        }
      ]
    },
    {
      "cell_type": "markdown",
      "source": [
        "**Exercício 7**"
      ],
      "metadata": {
        "id": "OS31X5A_y6dm"
      }
    },
    {
      "cell_type": "code",
      "source": [
        "#Escreva um programa que pergunte o nome completo do usuário e o cumprimente pelo primeiro nome.\n",
        "print(\"Digite o seu nome completo:\")\n",
        "nome = input()\n",
        "lista = nome.split()\n",
        "print(\"Olá,\", lista[0])"
      ],
      "metadata": {
        "colab": {
          "base_uri": "https://localhost:8080/"
        },
        "id": "geVVJsc7y5zy",
        "outputId": "9d64cc42-fa98-43eb-f9ba-16253f1b1706"
      },
      "execution_count": 46,
      "outputs": [
        {
          "output_type": "stream",
          "name": "stdout",
          "text": [
            "Digite o seu nome completo:\n",
            "Thamires Butzke Pavan\n",
            "Olá, Thamires\n"
          ]
        }
      ]
    },
    {
      "cell_type": "markdown",
      "source": [
        "**Exercício 8**"
      ],
      "metadata": {
        "id": "sQMmR-HvzL0v"
      }
    },
    {
      "cell_type": "code",
      "source": [
        "#Escreva um código que extraia o domínio de um e-mail informado.\n",
        "print(\"Digite o seu e-mail:\")\n",
        "email = input()\n",
        "email_separado = email.split(\"@\")\n",
        "print(\"O domínio do seu e-mail é:\",email_separado[1])"
      ],
      "metadata": {
        "colab": {
          "base_uri": "https://localhost:8080/"
        },
        "id": "cjULJIZSzObq",
        "outputId": "c6e8e196-8318-4781-f3f6-574bb1da24bb"
      },
      "execution_count": 58,
      "outputs": [
        {
          "output_type": "stream",
          "name": "stdout",
          "text": [
            "Digite o seu e-mail:\n",
            "thamirespavan14@gmail.com\n",
            "O domínio do seu e-mail é: gmail.com\n"
          ]
        }
      ]
    }
  ]
}