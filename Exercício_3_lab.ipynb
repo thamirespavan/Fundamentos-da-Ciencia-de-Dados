{
  "cells": [
    {
      "cell_type": "markdown",
      "metadata": {
        "id": "rEJnSkx06i_3"
      },
      "source": [
        "## Exercícios #3 - Operadores de comparação e laços\n"
      ]
    },
    {
      "cell_type": "markdown",
      "metadata": {
        "id": "nTA1v5Vn6i_5"
      },
      "source": [
        "### Exercício 1\n",
        "Faça um programa para a leitura de duas notas parciais de um aluno. O programa deve calcular a média alcançada por aluno e apresentar:\n",
        "- A mensagem \"Aprovado\", se a média alcançada for maior ou igual a 7;\n",
        "- A mensagem \"Reprovado\", se a média for menor do que 7;\n",
        "- A mensagem \"Aprovado com Distinção\", se a média for igual a 10."
      ]
    },
    {
      "cell_type": "code",
      "execution_count": null,
      "metadata": {
        "colab": {
          "base_uri": "https://localhost:8080/"
        },
        "id": "O6-BGn2y6i_6",
        "outputId": "0199eaf6-603a-4e29-8a56-3102d902c23b"
      },
      "outputs": [
        {
          "output_type": "stream",
          "name": "stdout",
          "text": [
            "Digite a primeira nota: \n",
            "8.5\n",
            "Digite a segunda nota: \n",
            "9\n",
            "Aprovado\n"
          ]
        }
      ],
      "source": [
        "print(\"Digite a primeira nota: \")\n",
        "nota1 = float(input())\n",
        "print(\"Digite a segunda nota: \")\n",
        "nota2 = float(input())\n",
        "media = (nota1 + nota2) / 2\n",
        "if media == 10:\n",
        "    print(\"Aprovado com Distinção\")\n",
        "elif media >= 7:\n",
        "    print(\"Aprovado\")\n",
        "else:\n",
        "    print(\"Reprovado\")"
      ]
    },
    {
      "cell_type": "markdown",
      "metadata": {
        "id": "M74eMw2g6i_6"
      },
      "source": [
        "### Exercício 2\n",
        "Escreva um script que leia três números e mostre o maior e o menor deles."
      ]
    },
    {
      "cell_type": "code",
      "source": [
        "print(\"Digite o primeiro número: \")\n",
        "numero1 = float(input())\n",
        "print(\"Digite o segundo número: \")\n",
        "numero2 = float(input())\n",
        "print(\"Digite o terceiro número: \")\n",
        "numero3 = float(input())\n",
        "if numero1 > numero2 and numero1 > numero3:\n",
        "  print(\"O maior número é o {}\".format(numero1))\n",
        "elif numero2 > numero1 and numero2 > numero3:\n",
        "  print(\"O maior número é o {}\".format(numero2))\n",
        "else:\n",
        "  print(\"O maior número é o {}\".format(numero3))\n",
        "if numero1 < numero2 and numero1 < numero3:\n",
        "  print(\"O menor número é o {}\".format(numero1))\n",
        "elif numero2 < numero1 and numero2 < numero3:\n",
        "  print(\"O menor número é o {}\".format(numero2))\n",
        "else:\n",
        "  print(\"O menor número é o {}\".format(numero3))\n",
        "\n",
        "\n",
        "# lista = []\n",
        "#for i in range(3):\n",
        "  # print(\"Informe o número {}:\".format(i))\n",
        "  # lista.append(float(input()))\n",
        "\n",
        "#print(lista)\n",
        "#lista.sort()\n",
        "#print(\"menor número: {}\".format(lista[0]))\n",
        "#print(\"maior número: {}\".format(lista[-1]))\n"
      ],
      "metadata": {
        "colab": {
          "base_uri": "https://localhost:8080/"
        },
        "id": "7WdV2s897S1p",
        "outputId": "aa5c3a94-40b8-496f-dd0e-54ef1616d3a5"
      },
      "execution_count": 1,
      "outputs": [
        {
          "output_type": "stream",
          "name": "stdout",
          "text": [
            "Digite o primeiro número: \n",
            "5\n",
            "Digite o segundo número: \n",
            "7\n",
            "Digite o terceiro número: \n",
            "9\n",
            "O maior número é o 9.0\n",
            "O menor número é o 5.0\n"
          ]
        }
      ]
    },
    {
      "cell_type": "markdown",
      "metadata": {
        "id": "YLoT1T896i_7"
      },
      "source": [
        "### Exercício 3\n",
        "Nome na vertical em escada.\n",
        "\n",
        "F<br>\n",
        "FU<br>\n",
        "FUL<br>\n",
        "FULA<br>\n",
        "FULAN<br>\n",
        "FULANO<br>"
      ]
    },
    {
      "cell_type": "code",
      "execution_count": null,
      "metadata": {
        "colab": {
          "base_uri": "https://localhost:8080/"
        },
        "id": "r5Wp9Xj16i_7",
        "outputId": "12345dd2-ef1d-413b-943e-9fbfc4d25275"
      },
      "outputs": [
        {
          "output_type": "stream",
          "name": "stdout",
          "text": [
            "Digite seu nome: \n",
            "Thamires\n",
            "T\n",
            "Th\n",
            "Tha\n",
            "Tham\n",
            "Thami\n",
            "Thamir\n",
            "Thamire\n",
            "Thamires\n"
          ]
        }
      ],
      "source": [
        "print(\"Digite seu nome: \")\n",
        "nome = input()\n",
        "\n",
        "for i in range(len(nome)):\n",
        "  print(nome[:i+1])\n"
      ]
    },
    {
      "cell_type": "markdown",
      "metadata": {
        "id": "4Uzth6Nl6i_7"
      },
      "source": [
        "### Exercício 4\n",
        "A série de Fibonacci é formada pela seqüência 1,1,2,3,5,8,13,21,34,55,... (o próximo termo, a partir do terceiro, é sempre gerado a partir do somatório dos últimos dois). Faça um programa capaz de gerar a série até o n−ésimo termo (onde o valor n deve ser inserido pelo usuário)."
      ]
    },
    {
      "cell_type": "code",
      "execution_count": null,
      "metadata": {
        "colab": {
          "base_uri": "https://localhost:8080/"
        },
        "id": "4W1Sz6Dx6i_7",
        "outputId": "59924498-75dd-4463-db00-07b3403baecf"
      },
      "outputs": [
        {
          "output_type": "stream",
          "name": "stdout",
          "text": [
            "Digite o valor de n: \n",
            "10\n",
            "Sequência de Fibonacci:\n",
            "1 1 2 3 5 8 13 21 34 55 "
          ]
        }
      ],
      "source": [
        "print(\"Digite o valor de n: \")\n",
        "n = int(input())\n",
        "\n",
        "a, b = 1, 1\n",
        "print(\"Sequência de Fibonacci:\")\n",
        "for i in range(n):\n",
        "  print(a, end=\" \") #end=\" \" para não pular uma linha depois de imprimir\n",
        "  a, b = b, a + b"
      ]
    },
    {
      "cell_type": "markdown",
      "metadata": {
        "id": "QfC8la276i_8"
      },
      "source": [
        "### Exercício 5\n",
        "Faça um programa que leia e valide as seguintes informações:\n",
        "- Nome: maior que 3 caracteres;\n",
        "- Idade: entre 0 e 150;\n",
        "- Salário: maior que zero;\n",
        "- Sexo: 'f' ou 'm';\n",
        "- Estado Civil: 's', 'c', 'v', 'd';"
      ]
    },
    {
      "cell_type": "code",
      "execution_count": null,
      "metadata": {
        "colab": {
          "base_uri": "https://localhost:8080/"
        },
        "id": "bM4ksaFr6i_8",
        "outputId": "eebb817f-54b0-4b79-dc40-d045221cbf48"
      },
      "outputs": [
        {
          "output_type": "stream",
          "name": "stdout",
          "text": [
            "Digite seu nome: \n",
            "t\n",
            "O nome deve ter mais de 3 caracteres\n",
            "Digite seu nome: \n",
            "Thamires\n",
            "Digite sua idade: \n",
            "-5\n",
            "A idade deve estar entre 0 e 150\n",
            "Digite sua idade: \n",
            "21\n",
            "Digite seu salário: \n",
            "0\n",
            "O salário deve ser maior que 0\n",
            "Digite seu salário: \n",
            "1526\n",
            "Digite seu sexo (f ou m): \n",
            "a\n",
            "O sexo deve ser 'f' ou 'm'\n",
            "Digite seu sexo: \n",
            "f\n",
            "Digite seu estado civil (s, c, v, d): \n",
            "l\n",
            "O estado civil deve ser 's', 'c', 'v' ou 'd'\n",
            "Digite seu estado civil: \n",
            "s\n",
            "\n",
            "Nome: Thamires\n",
            "Idade: 21\n",
            "Salário: R$1526.00\n",
            "Sexo: Feminino\n",
            "Estado civil: Solteiro\n"
          ]
        }
      ],
      "source": [
        "print(\"Digite seu nome: \")\n",
        "nome = input()\n",
        "while len(nome) <= 3:\n",
        "  print(\"O nome deve ter mais de 3 caracteres\")\n",
        "  print(\"Digite seu nome: \")\n",
        "  nome = input()\n",
        "\n",
        "print(\"Digite sua idade: \")\n",
        "idade = int(input())\n",
        "while idade < 0 or idade > 150:\n",
        "  print(\"A idade deve estar entre 0 e 150\")\n",
        "  print(\"Digite sua idade: \")\n",
        "  idade = int(input())\n",
        "\n",
        "print(\"Digite seu salário: \")\n",
        "salario = float(input())\n",
        "while salario <= 0:\n",
        "  print(\"O salário deve ser maior que 0\")\n",
        "  print(\"Digite seu salário: \")\n",
        "  salario = float(input())\n",
        "\n",
        "print(\"Digite seu sexo (f ou m): \")\n",
        "sexo = input()\n",
        "while sexo != 'f' and sexo != 'm':\n",
        "  print(\"O sexo deve ser 'f' ou 'm'\")\n",
        "  print(\"Digite seu sexo: \")\n",
        "  sexo = input()\n",
        "\n",
        "print(\"Digite seu estado civil (s, c, v, d): \")\n",
        "estado_civil = input()\n",
        "while estado_civil != 's' and estado_civil != 'c' and estado_civil != 'v' and estado_civil != 'd':\n",
        "  print(\"O estado civil deve ser 's', 'c', 'v' ou 'd'\")\n",
        "  print(\"Digite seu estado civil: \")\n",
        "  estado_civil = input()\n",
        "\n",
        "print()\n",
        "print(\"Nome: {}\".format(nome))\n",
        "print(\"Idade: {}\".format(idade))\n",
        "print(\"Salário: R${:.2f}\".format(salario))\n",
        "if sexo == 'f':\n",
        "  print(\"Sexo: Feminino\")\n",
        "else:\n",
        "  print(\"Sexo: Masculino\")\n",
        "\n",
        "if estado_civil == 's':\n",
        "  print(\"Estado civil: Solteiro\")\n",
        "elif estado_civil == 'c':\n",
        "  print(\"Estado civil: Casado\")\n",
        "elif estado_civil == 'v':\n",
        "  print(\"Estado civil: Viúvo\")\n",
        "else:\n",
        "  print(\"Estado civil: Divorciado\")"
      ]
    },
    {
      "cell_type": "markdown",
      "metadata": {
        "id": "Q4Z4B1jY6i_8"
      },
      "source": [
        "### Exercício 6\n",
        "Faça um programa que peça um número inteiro e determine se ele é ou não um número primo. Um número primo é aquele que é divisível somente por ele mesmo e por 1.\n",
        "Dica: Utilize o operador aritmético `%`, que retorna o resto da divisão de dois números."
      ]
    },
    {
      "cell_type": "code",
      "execution_count": null,
      "metadata": {
        "colab": {
          "base_uri": "https://localhost:8080/"
        },
        "id": "wKrEKcrg6i_8",
        "outputId": "c0e1aa86-02fb-496a-b3b8-15504460b785"
      },
      "outputs": [
        {
          "output_type": "stream",
          "name": "stdout",
          "text": [
            "Digite um número inteiro: \n",
            "1\n",
            "\n",
            "1 não é um número primo.\n"
          ]
        }
      ],
      "source": [
        "print(\"Digite um número inteiro: \")\n",
        "num = int(input())\n",
        "\n",
        "veri = True\n",
        "\n",
        "if num <= 1:\n",
        "    veri = False\n",
        "else:\n",
        "    for i in range(2, num):\n",
        "        if num % i == 0:\n",
        "            veri = False\n",
        "            break\n",
        "\n",
        "print()\n",
        "if veri == True:\n",
        "  print(\"{} é um número primo.\".format(num))\n",
        "else:\n",
        "  print(\"{} não é um número primo.\".format(num))"
      ]
    }
  ],
  "metadata": {
    "kernelspec": {
      "display_name": "Python 3 (ipykernel)",
      "language": "python",
      "name": "python3"
    },
    "language_info": {
      "codemirror_mode": {
        "name": "ipython",
        "version": 3
      },
      "file_extension": ".py",
      "mimetype": "text/x-python",
      "name": "python",
      "nbconvert_exporter": "python",
      "pygments_lexer": "ipython3",
      "version": "3.11.5"
    },
    "colab": {
      "provenance": []
    }
  },
  "nbformat": 4,
  "nbformat_minor": 0
}