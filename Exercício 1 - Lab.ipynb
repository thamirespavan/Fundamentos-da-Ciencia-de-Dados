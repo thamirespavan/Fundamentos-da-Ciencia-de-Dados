{
 "cells": [
  {
   "cell_type": "markdown",
   "id": "df058e58-9625-4922-9c7c-de485f1c23c0",
   "metadata": {},
   "source": [
    "#### 1. Importando o arquivo CSV. "
   ]
  },
  {
   "cell_type": "code",
   "execution_count": 2,
   "id": "be24999a-bc8e-40f2-8674-f78c638b1d4e",
   "metadata": {
    "tags": []
   },
   "outputs": [
    {
     "data": {
      "text/html": [
       "<div>\n",
       "<style scoped>\n",
       "    .dataframe tbody tr th:only-of-type {\n",
       "        vertical-align: middle;\n",
       "    }\n",
       "\n",
       "    .dataframe tbody tr th {\n",
       "        vertical-align: top;\n",
       "    }\n",
       "\n",
       "    .dataframe thead th {\n",
       "        text-align: right;\n",
       "    }\n",
       "</style>\n",
       "<table border=\"1\" class=\"dataframe\">\n",
       "  <thead>\n",
       "    <tr style=\"text-align: right;\">\n",
       "      <th></th>\n",
       "      <th>Id</th>\n",
       "      <th>Bloco</th>\n",
       "      <th>Andar</th>\n",
       "      <th>Final</th>\n",
       "      <th>Sala</th>\n",
       "      <th>Cozinha</th>\n",
       "      <th>Banheiro</th>\n",
       "      <th>Dorm</th>\n",
       "      <th>Rachadura</th>\n",
       "      <th>Infiltr</th>\n",
       "    </tr>\n",
       "  </thead>\n",
       "  <tbody>\n",
       "    <tr>\n",
       "      <th>0</th>\n",
       "      <td>1</td>\n",
       "      <td>A</td>\n",
       "      <td>1</td>\n",
       "      <td>1</td>\n",
       "      <td>27.8</td>\n",
       "      <td>7.9</td>\n",
       "      <td>5.0</td>\n",
       "      <td>11.6</td>\n",
       "      <td>ausente</td>\n",
       "      <td>ausente</td>\n",
       "    </tr>\n",
       "    <tr>\n",
       "      <th>1</th>\n",
       "      <td>2</td>\n",
       "      <td>A</td>\n",
       "      <td>1</td>\n",
       "      <td>2</td>\n",
       "      <td>28.3</td>\n",
       "      <td>7.3</td>\n",
       "      <td>5.4</td>\n",
       "      <td>13.1</td>\n",
       "      <td>ausente</td>\n",
       "      <td>ausente</td>\n",
       "    </tr>\n",
       "    <tr>\n",
       "      <th>2</th>\n",
       "      <td>3</td>\n",
       "      <td>A</td>\n",
       "      <td>1</td>\n",
       "      <td>3</td>\n",
       "      <td>27.1</td>\n",
       "      <td>7.1</td>\n",
       "      <td>5.0</td>\n",
       "      <td>14.9</td>\n",
       "      <td>ausente</td>\n",
       "      <td>ausente</td>\n",
       "    </tr>\n",
       "    <tr>\n",
       "      <th>3</th>\n",
       "      <td>4</td>\n",
       "      <td>A</td>\n",
       "      <td>1</td>\n",
       "      <td>4</td>\n",
       "      <td>26.5</td>\n",
       "      <td>8.4</td>\n",
       "      <td>3.9</td>\n",
       "      <td>12.4</td>\n",
       "      <td>presente</td>\n",
       "      <td>presente</td>\n",
       "    </tr>\n",
       "    <tr>\n",
       "      <th>4</th>\n",
       "      <td>5</td>\n",
       "      <td>A</td>\n",
       "      <td>2</td>\n",
       "      <td>1</td>\n",
       "      <td>27.7</td>\n",
       "      <td>7.6</td>\n",
       "      <td>4.7</td>\n",
       "      <td>12.1</td>\n",
       "      <td>ausente</td>\n",
       "      <td>ausente</td>\n",
       "    </tr>\n",
       "    <tr>\n",
       "      <th>...</th>\n",
       "      <td>...</td>\n",
       "      <td>...</td>\n",
       "      <td>...</td>\n",
       "      <td>...</td>\n",
       "      <td>...</td>\n",
       "      <td>...</td>\n",
       "      <td>...</td>\n",
       "      <td>...</td>\n",
       "      <td>...</td>\n",
       "      <td>...</td>\n",
       "    </tr>\n",
       "    <tr>\n",
       "      <th>147</th>\n",
       "      <td>148</td>\n",
       "      <td>B</td>\n",
       "      <td>18</td>\n",
       "      <td>4</td>\n",
       "      <td>23.5</td>\n",
       "      <td>7.4</td>\n",
       "      <td>4.3</td>\n",
       "      <td>12.2</td>\n",
       "      <td>ausente</td>\n",
       "      <td>presente</td>\n",
       "    </tr>\n",
       "    <tr>\n",
       "      <th>148</th>\n",
       "      <td>149</td>\n",
       "      <td>B</td>\n",
       "      <td>19</td>\n",
       "      <td>1</td>\n",
       "      <td>24.1</td>\n",
       "      <td>8.3</td>\n",
       "      <td>4.8</td>\n",
       "      <td>12.9</td>\n",
       "      <td>ausente</td>\n",
       "      <td>ausente</td>\n",
       "    </tr>\n",
       "    <tr>\n",
       "      <th>149</th>\n",
       "      <td>150</td>\n",
       "      <td>B</td>\n",
       "      <td>19</td>\n",
       "      <td>2</td>\n",
       "      <td>24.1</td>\n",
       "      <td>8.0</td>\n",
       "      <td>4.5</td>\n",
       "      <td>10.9</td>\n",
       "      <td>ausente</td>\n",
       "      <td>ausente</td>\n",
       "    </tr>\n",
       "    <tr>\n",
       "      <th>150</th>\n",
       "      <td>151</td>\n",
       "      <td>B</td>\n",
       "      <td>19</td>\n",
       "      <td>3</td>\n",
       "      <td>23.0</td>\n",
       "      <td>8.5</td>\n",
       "      <td>4.3</td>\n",
       "      <td>11.7</td>\n",
       "      <td>ausente</td>\n",
       "      <td>presente</td>\n",
       "    </tr>\n",
       "    <tr>\n",
       "      <th>151</th>\n",
       "      <td>152</td>\n",
       "      <td>B</td>\n",
       "      <td>19</td>\n",
       "      <td>4</td>\n",
       "      <td>22.7</td>\n",
       "      <td>7.8</td>\n",
       "      <td>4.2</td>\n",
       "      <td>15.7</td>\n",
       "      <td>ausente</td>\n",
       "      <td>presente</td>\n",
       "    </tr>\n",
       "  </tbody>\n",
       "</table>\n",
       "<p>152 rows × 10 columns</p>\n",
       "</div>"
      ],
      "text/plain": [
       "      Id Bloco  Andar  Final  Sala  Cozinha  Banheiro  Dorm Rachadura  \\\n",
       "0      1     A      1      1  27.8      7.9       5.0  11.6   ausente   \n",
       "1      2     A      1      2  28.3      7.3       5.4  13.1   ausente   \n",
       "2      3     A      1      3  27.1      7.1       5.0  14.9   ausente   \n",
       "3      4     A      1      4  26.5      8.4       3.9  12.4  presente   \n",
       "4      5     A      2      1  27.7      7.6       4.7  12.1   ausente   \n",
       "..   ...   ...    ...    ...   ...      ...       ...   ...       ...   \n",
       "147  148     B     18      4  23.5      7.4       4.3  12.2   ausente   \n",
       "148  149     B     19      1  24.1      8.3       4.8  12.9   ausente   \n",
       "149  150     B     19      2  24.1      8.0       4.5  10.9   ausente   \n",
       "150  151     B     19      3  23.0      8.5       4.3  11.7   ausente   \n",
       "151  152     B     19      4  22.7      7.8       4.2  15.7   ausente   \n",
       "\n",
       "      Infiltr  \n",
       "0     ausente  \n",
       "1     ausente  \n",
       "2     ausente  \n",
       "3    presente  \n",
       "4     ausente  \n",
       "..        ...  \n",
       "147  presente  \n",
       "148   ausente  \n",
       "149   ausente  \n",
       "150  presente  \n",
       "151  presente  \n",
       "\n",
       "[152 rows x 10 columns]"
      ]
     },
     "execution_count": 2,
     "metadata": {},
     "output_type": "execute_result"
    }
   ],
   "source": [
    "import pandas as pd\n",
    "\n",
    "\n",
    "questionario = pd.read_csv(\"C:/Users/20221enpro0081/Downloads/areas.csv\", sep = \";\", decimal = \",\")\n",
    "\n",
    "questionario"
   ]
  },
  {
   "cell_type": "code",
   "execution_count": 8,
   "id": "7e5feab3-6f35-4cff-9399-feb9ae89d2b1",
   "metadata": {
    "tags": []
   },
   "outputs": [],
   "source": [
    "#### 1. Vamos começar explorando o tipo de empreendimento de que tratam os dados. Para isso, verifique:"
   ]
  },
  {
   "cell_type": "code",
   "execution_count": 4,
   "id": "6fd53a74-56ae-4114-8354-1c6d50b42ff7",
   "metadata": {
    "tags": []
   },
   "outputs": [
    {
     "data": {
      "text/plain": [
       "152"
      ]
     },
     "execution_count": 4,
     "metadata": {},
     "output_type": "execute_result"
    }
   ],
   "source": [
    "# a) Qual o número total de apartamentos no empreendimento?\n",
    "len(questionario)"
   ]
  },
  {
   "cell_type": "code",
   "execution_count": 5,
   "id": "2e17d006-0c62-483d-a84b-03fcb3a66c23",
   "metadata": {
    "tags": []
   },
   "outputs": [
    {
     "data": {
      "text/plain": [
       "Bloco\n",
       "A    76\n",
       "B    76\n",
       "Name: count, dtype: int64"
      ]
     },
     "execution_count": 5,
     "metadata": {},
     "output_type": "execute_result"
    }
   ],
   "source": [
    "# b) Quantos apartamentos existem por bloco? \n",
    "tabela_bloco = questionario['Bloco'].value_counts()\n",
    "\n",
    "tabela_bloco"
   ]
  },
  {
   "cell_type": "code",
   "execution_count": 6,
   "id": "98bfa0e3-8c39-422b-be0f-76676d012b31",
   "metadata": {
    "tags": []
   },
   "outputs": [
    {
     "data": {
      "text/plain": [
       "Andar\n",
       "1     8\n",
       "11    8\n",
       "18    8\n",
       "17    8\n",
       "16    8\n",
       "15    8\n",
       "14    8\n",
       "13    8\n",
       "12    8\n",
       "10    8\n",
       "2     8\n",
       "9     8\n",
       "8     8\n",
       "7     8\n",
       "6     8\n",
       "5     8\n",
       "4     8\n",
       "3     8\n",
       "19    8\n",
       "Name: count, dtype: int64"
      ]
     },
     "execution_count": 6,
     "metadata": {},
     "output_type": "execute_result"
    }
   ],
   "source": [
    "# c) Quantos apartamentos existem por andar? \n",
    "tabela_andar = questionario['Andar'].value_counts()\n",
    "\n",
    "tabela_andar"
   ]
  },
  {
   "cell_type": "code",
   "execution_count": null,
   "id": "b753e4ee-623d-4274-8911-073e69629fb0",
   "metadata": {},
   "outputs": [],
   "source": [
    "#### 2. Existe a suspeita de que os apartamentos tenham sido construídos com metragens diferentes.\n",
    "####O arquivo de dados traz as áreas de cada cômodo em separado. Acrescente uma nova coluna\n",
    "####calculando a área útil total de cada apartamento."
   ]
  },
  {
   "cell_type": "code",
   "execution_count": 9,
   "id": "13d0b7be-e2e8-4494-b78b-ab3196b60359",
   "metadata": {
    "tags": []
   },
   "outputs": [
    {
     "data": {
      "text/html": [
       "<div>\n",
       "<style scoped>\n",
       "    .dataframe tbody tr th:only-of-type {\n",
       "        vertical-align: middle;\n",
       "    }\n",
       "\n",
       "    .dataframe tbody tr th {\n",
       "        vertical-align: top;\n",
       "    }\n",
       "\n",
       "    .dataframe thead th {\n",
       "        text-align: right;\n",
       "    }\n",
       "</style>\n",
       "<table border=\"1\" class=\"dataframe\">\n",
       "  <thead>\n",
       "    <tr style=\"text-align: right;\">\n",
       "      <th></th>\n",
       "      <th>Id</th>\n",
       "      <th>Bloco</th>\n",
       "      <th>Andar</th>\n",
       "      <th>Final</th>\n",
       "      <th>Sala</th>\n",
       "      <th>Cozinha</th>\n",
       "      <th>Banheiro</th>\n",
       "      <th>Dorm</th>\n",
       "      <th>Rachadura</th>\n",
       "      <th>Infiltr</th>\n",
       "      <th>Área Total</th>\n",
       "    </tr>\n",
       "  </thead>\n",
       "  <tbody>\n",
       "    <tr>\n",
       "      <th>0</th>\n",
       "      <td>1</td>\n",
       "      <td>A</td>\n",
       "      <td>1</td>\n",
       "      <td>1</td>\n",
       "      <td>27.8</td>\n",
       "      <td>7.9</td>\n",
       "      <td>5.0</td>\n",
       "      <td>11.6</td>\n",
       "      <td>ausente</td>\n",
       "      <td>ausente</td>\n",
       "      <td>52.3</td>\n",
       "    </tr>\n",
       "    <tr>\n",
       "      <th>1</th>\n",
       "      <td>2</td>\n",
       "      <td>A</td>\n",
       "      <td>1</td>\n",
       "      <td>2</td>\n",
       "      <td>28.3</td>\n",
       "      <td>7.3</td>\n",
       "      <td>5.4</td>\n",
       "      <td>13.1</td>\n",
       "      <td>ausente</td>\n",
       "      <td>ausente</td>\n",
       "      <td>54.1</td>\n",
       "    </tr>\n",
       "    <tr>\n",
       "      <th>2</th>\n",
       "      <td>3</td>\n",
       "      <td>A</td>\n",
       "      <td>1</td>\n",
       "      <td>3</td>\n",
       "      <td>27.1</td>\n",
       "      <td>7.1</td>\n",
       "      <td>5.0</td>\n",
       "      <td>14.9</td>\n",
       "      <td>ausente</td>\n",
       "      <td>ausente</td>\n",
       "      <td>54.1</td>\n",
       "    </tr>\n",
       "    <tr>\n",
       "      <th>3</th>\n",
       "      <td>4</td>\n",
       "      <td>A</td>\n",
       "      <td>1</td>\n",
       "      <td>4</td>\n",
       "      <td>26.5</td>\n",
       "      <td>8.4</td>\n",
       "      <td>3.9</td>\n",
       "      <td>12.4</td>\n",
       "      <td>presente</td>\n",
       "      <td>presente</td>\n",
       "      <td>51.2</td>\n",
       "    </tr>\n",
       "    <tr>\n",
       "      <th>4</th>\n",
       "      <td>5</td>\n",
       "      <td>A</td>\n",
       "      <td>2</td>\n",
       "      <td>1</td>\n",
       "      <td>27.7</td>\n",
       "      <td>7.6</td>\n",
       "      <td>4.7</td>\n",
       "      <td>12.1</td>\n",
       "      <td>ausente</td>\n",
       "      <td>ausente</td>\n",
       "      <td>52.1</td>\n",
       "    </tr>\n",
       "    <tr>\n",
       "      <th>...</th>\n",
       "      <td>...</td>\n",
       "      <td>...</td>\n",
       "      <td>...</td>\n",
       "      <td>...</td>\n",
       "      <td>...</td>\n",
       "      <td>...</td>\n",
       "      <td>...</td>\n",
       "      <td>...</td>\n",
       "      <td>...</td>\n",
       "      <td>...</td>\n",
       "      <td>...</td>\n",
       "    </tr>\n",
       "    <tr>\n",
       "      <th>147</th>\n",
       "      <td>148</td>\n",
       "      <td>B</td>\n",
       "      <td>18</td>\n",
       "      <td>4</td>\n",
       "      <td>23.5</td>\n",
       "      <td>7.4</td>\n",
       "      <td>4.3</td>\n",
       "      <td>12.2</td>\n",
       "      <td>ausente</td>\n",
       "      <td>presente</td>\n",
       "      <td>47.4</td>\n",
       "    </tr>\n",
       "    <tr>\n",
       "      <th>148</th>\n",
       "      <td>149</td>\n",
       "      <td>B</td>\n",
       "      <td>19</td>\n",
       "      <td>1</td>\n",
       "      <td>24.1</td>\n",
       "      <td>8.3</td>\n",
       "      <td>4.8</td>\n",
       "      <td>12.9</td>\n",
       "      <td>ausente</td>\n",
       "      <td>ausente</td>\n",
       "      <td>50.1</td>\n",
       "    </tr>\n",
       "    <tr>\n",
       "      <th>149</th>\n",
       "      <td>150</td>\n",
       "      <td>B</td>\n",
       "      <td>19</td>\n",
       "      <td>2</td>\n",
       "      <td>24.1</td>\n",
       "      <td>8.0</td>\n",
       "      <td>4.5</td>\n",
       "      <td>10.9</td>\n",
       "      <td>ausente</td>\n",
       "      <td>ausente</td>\n",
       "      <td>47.5</td>\n",
       "    </tr>\n",
       "    <tr>\n",
       "      <th>150</th>\n",
       "      <td>151</td>\n",
       "      <td>B</td>\n",
       "      <td>19</td>\n",
       "      <td>3</td>\n",
       "      <td>23.0</td>\n",
       "      <td>8.5</td>\n",
       "      <td>4.3</td>\n",
       "      <td>11.7</td>\n",
       "      <td>ausente</td>\n",
       "      <td>presente</td>\n",
       "      <td>47.5</td>\n",
       "    </tr>\n",
       "    <tr>\n",
       "      <th>151</th>\n",
       "      <td>152</td>\n",
       "      <td>B</td>\n",
       "      <td>19</td>\n",
       "      <td>4</td>\n",
       "      <td>22.7</td>\n",
       "      <td>7.8</td>\n",
       "      <td>4.2</td>\n",
       "      <td>15.7</td>\n",
       "      <td>ausente</td>\n",
       "      <td>presente</td>\n",
       "      <td>50.4</td>\n",
       "    </tr>\n",
       "  </tbody>\n",
       "</table>\n",
       "<p>152 rows × 11 columns</p>\n",
       "</div>"
      ],
      "text/plain": [
       "      Id Bloco  Andar  Final  Sala  Cozinha  Banheiro  Dorm Rachadura  \\\n",
       "0      1     A      1      1  27.8      7.9       5.0  11.6   ausente   \n",
       "1      2     A      1      2  28.3      7.3       5.4  13.1   ausente   \n",
       "2      3     A      1      3  27.1      7.1       5.0  14.9   ausente   \n",
       "3      4     A      1      4  26.5      8.4       3.9  12.4  presente   \n",
       "4      5     A      2      1  27.7      7.6       4.7  12.1   ausente   \n",
       "..   ...   ...    ...    ...   ...      ...       ...   ...       ...   \n",
       "147  148     B     18      4  23.5      7.4       4.3  12.2   ausente   \n",
       "148  149     B     19      1  24.1      8.3       4.8  12.9   ausente   \n",
       "149  150     B     19      2  24.1      8.0       4.5  10.9   ausente   \n",
       "150  151     B     19      3  23.0      8.5       4.3  11.7   ausente   \n",
       "151  152     B     19      4  22.7      7.8       4.2  15.7   ausente   \n",
       "\n",
       "      Infiltr  Área Total  \n",
       "0     ausente        52.3  \n",
       "1     ausente        54.1  \n",
       "2     ausente        54.1  \n",
       "3    presente        51.2  \n",
       "4     ausente        52.1  \n",
       "..        ...         ...  \n",
       "147  presente        47.4  \n",
       "148   ausente        50.1  \n",
       "149   ausente        47.5  \n",
       "150  presente        47.5  \n",
       "151  presente        50.4  \n",
       "\n",
       "[152 rows x 11 columns]"
      ]
     },
     "execution_count": 9,
     "metadata": {},
     "output_type": "execute_result"
    }
   ],
   "source": [
    "questionario[\"Área Total\"] = questionario[\"Sala\"] + questionario[\"Cozinha\"] + questionario[\"Banheiro\"] + questionario[\"Dorm\"]\n",
    "questionario"
   ]
  },
  {
   "cell_type": "code",
   "execution_count": null,
   "id": "5ea8fd82-79b3-4341-adc2-4bbd915c59f7",
   "metadata": {},
   "outputs": [],
   "source": [
    "#### 3. Para a área de cada cômodo e para a área útil total (isto é, para as variáveis quantitativas\n",
    "#### contínuas), faça um histograma"
   ]
  },
  {
   "cell_type": "code",
   "execution_count": 11,
   "id": "0a2502f9-e029-49af-9617-2174207a4dbd",
   "metadata": {
    "tags": []
   },
   "outputs": [],
   "source": [
    "import matplotlib.pyplot as plt"
   ]
  },
  {
   "cell_type": "code",
   "execution_count": 12,
   "id": "9b50e56f-6aeb-4872-be0c-c45c0110893a",
   "metadata": {
    "tags": []
   },
   "outputs": [
    {
     "data": {
      "text/plain": [
       "Text(0, 0.5, 'Frequência')"
      ]
     },
     "execution_count": 12,
     "metadata": {},
     "output_type": "execute_result"
    },
    {
     "data": {
      "image/png": "[encoded data removed]",
      "text/plain": [
       "<Figure size 640x480 with 1 Axes>"
      ]
     },
     "metadata": {},
     "output_type": "display_data"
    }
   ],
   "source": [
    "plt.hist(questionario['Sala'], bins = 8, color = \"pink\", edgecolor = \"purple\")\n",
    "plt.title(\"Distribuição das áreas da Sala\")\n",
    "plt.xlabel(\"Áreas\")\n",
    "plt.ylabel(\"Frequência\")"
   ]
  },
  {
   "cell_type": "code",
   "execution_count": 13,
   "id": "ba5b2e00-676f-407e-9412-eb8221d02b2c",
   "metadata": {
    "tags": []
   },
   "outputs": [
    {
     "data": {
      "text/plain": [
       "Text(0, 0.5, 'Frequência')"
      ]
     },
     "execution_count": 13,
     "metadata": {},
     "output_type": "execute_result"
    },
    {
     "data": {
      "image/png": "[encoded data removed]",
      "text/plain": [
       "<Figure size 640x480 with 1 Axes>"
      ]
     },
     "metadata": {},
     "output_type": "display_data"
    }
   ],
   "source": [
    "plt.hist(questionario['Cozinha'], bins = 8, color = \"pink\", edgecolor = \"purple\")\n",
    "plt.title(\"Distribuição das áreas da Cozinha\")\n",
    "plt.xlabel(\"Áreas\")\n",
    "plt.ylabel(\"Frequência\")"
   ]
  },
  {
   "cell_type": "code",
   "execution_count": 14,
   "id": "bf3a2931-524d-4977-ada7-f2a3bb535b9a",
   "metadata": {
    "tags": []
   },
   "outputs": [
    {
     "data": {
      "text/plain": [
       "Text(0, 0.5, 'Frequência')"
      ]
     },
     "execution_count": 14,
     "metadata": {},
     "output_type": "execute_result"
    },
    {
     "data": {
      "image/png": "[encoded data removed]",
      "text/plain": [
       "<Figure size 640x480 with 1 Axes>"
      ]
     },
     "metadata": {},
     "output_type": "display_data"
    }
   ],
   "source": [
    "plt.hist(questionario['Banheiro'], bins = 8, color = \"pink\", edgecolor = \"purple\")\n",
    "plt.title(\"Distribuição das áreas da Banheiro\")\n",
    "plt.xlabel(\"Áreas\")\n",
    "plt.ylabel(\"Frequência\")"
   ]
  },
  {
   "cell_type": "code",
   "execution_count": 15,
   "id": "f2439a99-e029-4748-882b-642c1a5748d5",
   "metadata": {
    "tags": []
   },
   "outputs": [
    {
     "data": {
      "text/plain": [
       "Text(0, 0.5, 'Frequência')"
      ]
     },
     "execution_count": 15,
     "metadata": {},
     "output_type": "execute_result"
    },
    {
     "data": {
      "image/png": "[encoded data removed]",
      "text/plain": [
       "<Figure size 640x480 with 1 Axes>"
      ]
     },
     "metadata": {},
     "output_type": "display_data"
    }
   ],
   "source": [
    "plt.hist(questionario['Dorm'], bins = 8, color = \"pink\", edgecolor = \"purple\")\n",
    "plt.title(\"Distribuição das áreas da Dorm\")\n",
    "plt.xlabel(\"Áreas\")\n",
    "plt.ylabel(\"Frequência\")"
   ]
  },
  {
   "cell_type": "code",
   "execution_count": 17,
   "id": "0d7c7cba-cd8c-4eb4-acc7-0f6f8deca5da",
   "metadata": {
    "tags": []
   },
   "outputs": [
    {
     "data": {
      "text/plain": [
       "Text(0, 0.5, 'Frequência')"
      ]
     },
     "execution_count": 17,
     "metadata": {},
     "output_type": "execute_result"
    },
    {
     "data": {
      "image/png": "[encoded data removed]",
      "text/plain": [
       "<Figure size 640x480 with 1 Axes>"
      ]
     },
     "metadata": {},
     "output_type": "display_data"
    }
   ],
   "source": [
    "plt.hist(questionario['Área Total'], bins = 8, color = \"pink\", edgecolor = \"purple\")\n",
    "plt.title(\"Distribuição da Área Total\")\n",
    "plt.xlabel(\"Áreas\")\n",
    "plt.ylabel(\"Frequência\")"
   ]
  },
  {
   "cell_type": "code",
   "execution_count": null,
   "id": "b7504079-0047-496a-9753-5f93373cef5d",
   "metadata": {},
   "outputs": [],
   "source": [
    "#### 4. Agora, em separado para o bloco A e o bloco B:"
   ]
  },
  {
   "cell_type": "code",
   "execution_count": null,
   "id": "852ec114-30d3-44c7-a657-a189fe34a3ba",
   "metadata": {},
   "outputs": [],
   "source": [
    "##### Bloco A"
   ]
  },
  {
   "cell_type": "code",
   "execution_count": null,
   "id": "fdc97e74-289a-4c6d-b45e-4feb451156c7",
   "metadata": {},
   "outputs": [],
   "source": [
    "# a. Calcule a média e o desvio-padrão da área de cada cômodo e também da área total."
   ]
  },
  {
   "cell_type": "code",
   "execution_count": null,
   "id": "edb9e9a5-00dc-4c0f-8781-6f0223c137e4",
   "metadata": {},
   "outputs": [],
   "source": [
    "#### Média"
   ]
  },
  {
   "cell_type": "code",
   "execution_count": 24,
   "id": "366a1f43-8078-468c-b77f-00bb86cbb9b8",
   "metadata": {
    "tags": []
   },
   "outputs": [
    {
     "data": {
      "text/plain": [
       "Bloco\n",
       "A    28.093421\n",
       "B    23.131579\n",
       "Name: Sala, dtype: float64"
      ]
     },
     "execution_count": 24,
     "metadata": {},
     "output_type": "execute_result"
    }
   ],
   "source": [
    "questionario.groupby(['Bloco'])['Sala'].mean()"
   ]
  },
  {
   "cell_type": "code",
   "execution_count": 20,
   "id": "6bdfc30a-13b7-44cb-ba88-8c5518a3bcf2",
   "metadata": {
    "tags": []
   },
   "outputs": [
    {
     "data": {
      "text/plain": [
       "Bloco\n",
       "A    7.928947\n",
       "B    7.881579\n",
       "Name: Cozinha, dtype: float64"
      ]
     },
     "execution_count": 20,
     "metadata": {},
     "output_type": "execute_result"
    }
   ],
   "source": [
    "questionario.groupby(['Bloco'])['Cozinha'].mean()"
   ]
  },
  {
   "cell_type": "code",
   "execution_count": 21,
   "id": "b4aeb771-b3ad-4a3b-b99f-2c3775f31d37",
   "metadata": {
    "tags": []
   },
   "outputs": [
    {
     "data": {
      "text/plain": [
       "Bloco\n",
       "A    4.450000\n",
       "B    4.464474\n",
       "Name: Banheiro, dtype: float64"
      ]
     },
     "execution_count": 21,
     "metadata": {},
     "output_type": "execute_result"
    }
   ],
   "source": [
    "questionario.groupby(['Bloco'])['Banheiro'].mean()"
   ]
  },
  {
   "cell_type": "code",
   "execution_count": 22,
   "id": "d5950e2e-a8c7-4fe7-8459-d5d502761e55",
   "metadata": {
    "tags": []
   },
   "outputs": [
    {
     "data": {
      "text/plain": [
       "Bloco\n",
       "A    12.950000\n",
       "B    12.928947\n",
       "Name: Dorm, dtype: float64"
      ]
     },
     "execution_count": 22,
     "metadata": {},
     "output_type": "execute_result"
    }
   ],
   "source": [
    "questionario.groupby(['Bloco'])['Dorm'].mean()"
   ]
  },
  {
   "cell_type": "code",
   "execution_count": 23,
   "id": "99f9c1fa-3f9d-42f8-af5d-9b9cdac52f9f",
   "metadata": {
    "tags": []
   },
   "outputs": [
    {
     "data": {
      "text/plain": [
       "Bloco\n",
       "A    53.422368\n",
       "B    48.406579\n",
       "Name: Área Total, dtype: float64"
      ]
     },
     "execution_count": 23,
     "metadata": {},
     "output_type": "execute_result"
    }
   ],
   "source": [
    "questionario.groupby(['Bloco'])['Área Total'].mean()"
   ]
  },
  {
   "cell_type": "code",
   "execution_count": null,
   "id": "317a6de0-4a3a-4c32-8c36-3ca09155e613",
   "metadata": {},
   "outputs": [],
   "source": [
    "#### Desvio Padrão"
   ]
  },
  {
   "cell_type": "code",
   "execution_count": 25,
   "id": "d3d2e355-3889-4d0f-a7f4-06b55532f171",
   "metadata": {
    "tags": []
   },
   "outputs": [
    {
     "data": {
      "text/plain": [
       "Bloco\n",
       "A    1.082631\n",
       "B    0.848875\n",
       "Name: Sala, dtype: float64"
      ]
     },
     "execution_count": 25,
     "metadata": {},
     "output_type": "execute_result"
    }
   ],
   "source": [
    "questionario.groupby(['Bloco'])['Sala'].std()"
   ]
  },
  {
   "cell_type": "code",
   "execution_count": 26,
   "id": "89f58519-4eb2-45c9-8f9f-b7deff8b3ff2",
   "metadata": {
    "tags": []
   },
   "outputs": [
    {
     "data": {
      "text/plain": [
       "Bloco\n",
       "A    0.465279\n",
       "B    0.604805\n",
       "Name: Cozinha, dtype: float64"
      ]
     },
     "execution_count": 26,
     "metadata": {},
     "output_type": "execute_result"
    }
   ],
   "source": [
    "questionario.groupby(['Bloco'])['Cozinha'].std()"
   ]
  },
  {
   "cell_type": "code",
   "execution_count": 27,
   "id": "2448b23a-4445-4c77-a39d-db1049c75360",
   "metadata": {
    "tags": []
   },
   "outputs": [
    {
     "data": {
      "text/plain": [
       "Bloco\n",
       "A    0.462313\n",
       "B    0.515805\n",
       "Name: Banheiro, dtype: float64"
      ]
     },
     "execution_count": 27,
     "metadata": {},
     "output_type": "execute_result"
    }
   ],
   "source": [
    "questionario.groupby(['Bloco'])['Banheiro'].std()"
   ]
  },
  {
   "cell_type": "code",
   "execution_count": 28,
   "id": "31fb8cfe-ef4c-4be0-b1b5-ff15ba8bdd36",
   "metadata": {
    "tags": []
   },
   "outputs": [
    {
     "data": {
      "text/plain": [
       "Bloco\n",
       "A    1.172860\n",
       "B    1.176528\n",
       "Name: Dorm, dtype: float64"
      ]
     },
     "execution_count": 28,
     "metadata": {},
     "output_type": "execute_result"
    }
   ],
   "source": [
    "questionario.groupby(['Bloco'])['Dorm'].std()"
   ]
  },
  {
   "cell_type": "code",
   "execution_count": 29,
   "id": "14e2100f-a217-4811-aea1-cb2882d27999",
   "metadata": {
    "tags": []
   },
   "outputs": [
    {
     "data": {
      "text/plain": [
       "Bloco\n",
       "A    1.771749\n",
       "B    1.537906\n",
       "Name: Área Total, dtype: float64"
      ]
     },
     "execution_count": 29,
     "metadata": {},
     "output_type": "execute_result"
    }
   ],
   "source": [
    "questionario.groupby(['Bloco'])['Área Total'].std()"
   ]
  },
  {
   "cell_type": "code",
   "execution_count": null,
   "id": "56832c49-f354-4039-8f0a-1a291404fa5e",
   "metadata": {},
   "outputs": [],
   "source": [
    "# b. Construa boxplots e compare as áreas para cada cômodo considerado."
   ]
  },
  {
   "cell_type": "code",
   "execution_count": 31,
   "id": "7b20b637-5691-42f5-9cbb-39d1e9d129f8",
   "metadata": {
    "tags": []
   },
   "outputs": [],
   "source": [
    "import seaborn as sns"
   ]
  },
  {
   "cell_type": "code",
   "execution_count": 32,
   "id": "e66c7bd6-558c-4a6b-b48e-82f2e2c894ee",
   "metadata": {
    "tags": []
   },
   "outputs": [
    {
     "data": {
      "text/plain": [
       "<Axes: xlabel='Bloco', ylabel='Sala'>"
      ]
     },
     "execution_count": 32,
     "metadata": {},
     "output_type": "execute_result"
    },
    {
     "data": {
      "image/png": "[encoded data removed]",
      "text/plain": [
       "<Figure size 640x480 with 1 Axes>"
      ]
     },
     "metadata": {},
     "output_type": "display_data"
    }
   ],
   "source": [
    "sns.boxplot(x = 'Bloco', y = 'Sala', data = questionario)"
   ]
  },
  {
   "cell_type": "code",
   "execution_count": 33,
   "id": "8e749637-6be0-4235-8595-65f651144ffb",
   "metadata": {
    "tags": []
   },
   "outputs": [
    {
     "data": {
      "text/plain": [
       "<Axes: xlabel='Bloco', ylabel='Cozinha'>"
      ]
     },
     "execution_count": 33,
     "metadata": {},
     "output_type": "execute_result"
    },
    {
     "data": {
      "image/png": "[encoded data removed]",
      "text/plain": [
       "<Figure size 640x480 with 1 Axes>"
      ]
     },
     "metadata": {},
     "output_type": "display_data"
    }
   ],
   "source": [
    "sns.boxplot(x = 'Bloco', y = 'Cozinha', data = questionario)"
   ]
  },
  {
   "cell_type": "code",
   "execution_count": 34,
   "id": "857ab90e-2f71-4d57-8a73-2c75bb923cf6",
   "metadata": {
    "tags": []
   },
   "outputs": [
    {
     "data": {
      "text/plain": [
       "<Axes: xlabel='Bloco', ylabel='Banheiro'>"
      ]
     },
     "execution_count": 34,
     "metadata": {},
     "output_type": "execute_result"
    },
    {
     "data": {
      "image/png": "[encoded data removed]",
      "text/plain": [
       "<Figure size 640x480 with 1 Axes>"
      ]
     },
     "metadata": {},
     "output_type": "display_data"
    }
   ],
   "source": [
    "sns.boxplot(x = 'Bloco', y = 'Banheiro', data = questionario)"
   ]
  },
  {
   "cell_type": "code",
   "execution_count": 35,
   "id": "07334e64-4152-4d6b-ad88-5eb7801b42ee",
   "metadata": {
    "tags": []
   },
   "outputs": [
    {
     "data": {
      "text/plain": [
       "<Axes: xlabel='Bloco', ylabel='Dorm'>"
      ]
     },
     "execution_count": 35,
     "metadata": {},
     "output_type": "execute_result"
    },
    {
     "data": {
      "image/png": "[encoded data removed]",
      "text/plain": [
       "<Figure size 640x480 with 1 Axes>"
      ]
     },
     "metadata": {},
     "output_type": "display_data"
    }
   ],
   "source": [
    "sns.boxplot(x = 'Bloco', y = 'Dorm', data = questionario)"
   ]
  },
  {
   "cell_type": "code",
   "execution_count": 36,
   "id": "23ff8240-69c9-45df-80aa-d05b9852832f",
   "metadata": {
    "tags": []
   },
   "outputs": [
    {
     "data": {
      "text/plain": [
       "<Axes: xlabel='Bloco', ylabel='Área Total'>"
      ]
     },
     "execution_count": 36,
     "metadata": {},
     "output_type": "execute_result"
    },
    {
     "data": {
      "image/png": "[encoded data removed]",
      "text/plain": [
       "<Figure size 640x480 with 1 Axes>"
      ]
     },
     "metadata": {},
     "output_type": "display_data"
    }
   ],
   "source": [
    "sns.boxplot(x = 'Bloco', y = 'Área Total', data = questionario)"
   ]
  },
  {
   "cell_type": "code",
   "execution_count": null,
   "id": "4cb247dc-eff2-41de-9f24-346d794e81c8",
   "metadata": {},
   "outputs": [],
   "source": [
    "# c. Com base em seus achados, você diria que existem diferenças nas áreas dos apartamentos\n",
    "#dos blocos A e B? Em caso positivo, qual (is) cômodo (s) apresenta (m) o problema?\n",
    "\n",
    "# Resposta: Sim. Os apartamentos do bloco A possuem uma área maior do que os do bloco B. O cômodo que possui maior diferença de área é a sala, seguido pela cozinha. "
   ]
  }
 ],
 "metadata": {
  "kernelspec": {
   "display_name": "Python 3 (ipykernel)",
   "language": "python",
   "name": "python3"
  },
  "language_info": {
   "codemirror_mode": {
    "name": "ipython",
    "version": 3
   },
   "file_extension": ".py",
   "mimetype": "text/x-python",
   "name": "python",
   "nbconvert_exporter": "python",
   "pygments_lexer": "ipython3",
   "version": "3.11.5"
  }
 },
 "nbformat": 4,
 "nbformat_minor": 5
}
