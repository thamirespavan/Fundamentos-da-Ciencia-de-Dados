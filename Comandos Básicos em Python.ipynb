{
 "cells": [
  {
   "cell_type": "code",
   "execution_count": 1,
   "id": "0dfc7eb5-872d-4d56-a626-080f468a31d9",
   "metadata": {
    "tags": []
   },
   "outputs": [
    {
     "data": {
      "text/plain": [
       "3"
      ]
     },
     "execution_count": 1,
     "metadata": {},
     "output_type": "execute_result"
    }
   ],
   "source": [
    "# Números e operações básicas\n",
    "\n",
    "2+1\n"
   ]
  },
  {
   "cell_type": "code",
   "execution_count": 2,
   "id": "8dd52278-c820-4a48-95ac-b0fadbb1e179",
   "metadata": {
    "tags": []
   },
   "outputs": [
    {
     "data": {
      "text/plain": [
       "1"
      ]
     },
     "execution_count": 2,
     "metadata": {},
     "output_type": "execute_result"
    }
   ],
   "source": [
    "2-1"
   ]
  },
  {
   "cell_type": "code",
   "execution_count": 3,
   "id": "636e4f77-c372-4249-96ea-2f73fa3f20ff",
   "metadata": {
    "tags": []
   },
   "outputs": [
    {
     "data": {
      "text/plain": [
       "4"
      ]
     },
     "execution_count": 3,
     "metadata": {},
     "output_type": "execute_result"
    }
   ],
   "source": [
    "2*2"
   ]
  },
  {
   "cell_type": "code",
   "execution_count": 4,
   "id": "f6199ff5-b533-4a6b-8680-d294e9ef80e6",
   "metadata": {
    "tags": []
   },
   "outputs": [
    {
     "data": {
      "text/plain": [
       "2.0"
      ]
     },
     "execution_count": 4,
     "metadata": {},
     "output_type": "execute_result"
    }
   ],
   "source": [
    "4/2"
   ]
  },
  {
   "cell_type": "code",
   "execution_count": 7,
   "id": "d1586d96-30ef-47c6-9e33-0c2be637460f",
   "metadata": {
    "tags": []
   },
   "outputs": [
    {
     "data": {
      "text/plain": [
       "256"
      ]
     },
     "execution_count": 7,
     "metadata": {},
     "output_type": "execute_result"
    }
   ],
   "source": [
    "#Potência\n",
    "\n",
    "2**8"
   ]
  },
  {
   "cell_type": "code",
   "execution_count": 8,
   "id": "f2f1e528-0d07-416e-a0a4-96fb1a6fcae3",
   "metadata": {
    "tags": []
   },
   "outputs": [
    {
     "data": {
      "text/plain": [
       "12"
      ]
     },
     "execution_count": 8,
     "metadata": {},
     "output_type": "execute_result"
    }
   ],
   "source": [
    "(2+2) + 4*2"
   ]
  },
  {
   "cell_type": "code",
   "execution_count": 9,
   "id": "ec0b5e72-793b-4942-8924-482e6ef89524",
   "metadata": {
    "tags": []
   },
   "outputs": [
    {
     "data": {
      "text/plain": [
       "5"
      ]
     },
     "execution_count": 9,
     "metadata": {},
     "output_type": "execute_result"
    }
   ],
   "source": [
    "# Variáveis\n",
    "\n",
    "a = 5\n",
    "a"
   ]
  },
  {
   "cell_type": "code",
   "execution_count": 10,
   "id": "3893651f-db02-4461-ad56-d4f867a511f0",
   "metadata": {
    "tags": []
   },
   "outputs": [],
   "source": [
    "variavel_um = 2"
   ]
  },
  {
   "cell_type": "code",
   "execution_count": 11,
   "id": "50e06de3-bad9-4416-ac0a-802aa4c5a06d",
   "metadata": {
    "tags": []
   },
   "outputs": [
    {
     "data": {
      "text/plain": [
       "7"
      ]
     },
     "execution_count": 11,
     "metadata": {},
     "output_type": "execute_result"
    }
   ],
   "source": [
    "terceira_variavel = a + variavel_um\n",
    "terceira_variavel"
   ]
  },
  {
   "cell_type": "code",
   "execution_count": 12,
   "id": "3a62ad67-bf65-4d7b-a53c-29f346bec0fb",
   "metadata": {
    "tags": []
   },
   "outputs": [
    {
     "data": {
      "text/plain": [
       "25"
      ]
     },
     "execution_count": 12,
     "metadata": {},
     "output_type": "execute_result"
    }
   ],
   "source": [
    "a = a**2\n",
    "a"
   ]
  },
  {
   "cell_type": "code",
   "execution_count": 15,
   "id": "68e6858f-0b01-44b8-92c0-9b24a793ccc4",
   "metadata": {
    "tags": []
   },
   "outputs": [
    {
     "data": {
      "text/plain": [
       "'thamires'"
      ]
     },
     "execution_count": 15,
     "metadata": {},
     "output_type": "execute_result"
    }
   ],
   "source": [
    "# Strings\n",
    "\n",
    "minha_string = \"thamires\"\n",
    "minha_string"
   ]
  },
  {
   "cell_type": "code",
   "execution_count": 18,
   "id": "7f392a7b-961c-40ab-8b0c-da3ebeb3a840",
   "metadata": {
    "tags": []
   },
   "outputs": [
    {
     "data": {
      "text/plain": [
       "'thamires pavan'"
      ]
     },
     "execution_count": 18,
     "metadata": {},
     "output_type": "execute_result"
    }
   ],
   "source": [
    "minha_string_2 = ' pavan'\n",
    "minha_string + minha_string_2"
   ]
  },
  {
   "cell_type": "code",
   "execution_count": 19,
   "id": "c008ccfd-1760-488f-a032-7f4bbbdb4d07",
   "metadata": {
    "tags": []
   },
   "outputs": [
    {
     "data": {
      "text/plain": [
       "8"
      ]
     },
     "execution_count": 19,
     "metadata": {},
     "output_type": "execute_result"
    }
   ],
   "source": [
    "len(minha_string)"
   ]
  },
  {
   "cell_type": "code",
   "execution_count": 20,
   "id": "ed66cc42-0aa5-4742-8fd5-366d0640d6f6",
   "metadata": {
    "tags": []
   },
   "outputs": [
    {
     "data": {
      "text/plain": [
       "6"
      ]
     },
     "execution_count": 20,
     "metadata": {},
     "output_type": "execute_result"
    }
   ],
   "source": [
    "len(minha_string_2)"
   ]
  },
  {
   "cell_type": "code",
   "execution_count": 36,
   "id": "cca75c8b-8474-431e-982b-164ab550e0f3",
   "metadata": {
    "tags": []
   },
   "outputs": [
    {
     "data": {
      "text/plain": [
       "'a'"
      ]
     },
     "execution_count": 36,
     "metadata": {},
     "output_type": "execute_result"
    }
   ],
   "source": [
    "# Retorna o que está na posição 2 da string, começa no 0\n",
    "minha_string[2]"
   ]
  },
  {
   "cell_type": "code",
   "execution_count": 22,
   "id": "dc7602c5-4b13-4d1c-9021-c85fa291014f",
   "metadata": {
    "tags": []
   },
   "outputs": [
    {
     "data": {
      "text/plain": [
       "'hamires'"
      ]
     },
     "execution_count": 22,
     "metadata": {},
     "output_type": "execute_result"
    }
   ],
   "source": [
    "minha_string[1:]"
   ]
  },
  {
   "cell_type": "code",
   "execution_count": 23,
   "id": "3b45b2bf-3ba0-4441-8a88-e55917ffb583",
   "metadata": {
    "tags": []
   },
   "outputs": [
    {
     "data": {
      "text/plain": [
       "'ham'"
      ]
     },
     "execution_count": 23,
     "metadata": {},
     "output_type": "execute_result"
    }
   ],
   "source": [
    "minha_string[1:4]"
   ]
  },
  {
   "cell_type": "code",
   "execution_count": 25,
   "id": "902b671b-e024-4e92-84b9-89fb56236886",
   "metadata": {
    "tags": []
   },
   "outputs": [
    {
     "data": {
      "text/plain": [
       "'s'"
      ]
     },
     "execution_count": 25,
     "metadata": {},
     "output_type": "execute_result"
    }
   ],
   "source": [
    "minha_string[-1]\n",
    "#última letra"
   ]
  },
  {
   "cell_type": "code",
   "execution_count": 26,
   "id": "8ab5903e-7370-4f73-8403-22bfc61f99c0",
   "metadata": {
    "tags": []
   },
   "outputs": [
    {
     "data": {
      "text/plain": [
       "'THAMIRES'"
      ]
     },
     "execution_count": 26,
     "metadata": {},
     "output_type": "execute_result"
    }
   ],
   "source": [
    "# Métodos embutidos para strings\n",
    "\n",
    "#Converter para caixa alta\n",
    "minha_string.upper()\n"
   ]
  },
  {
   "cell_type": "code",
   "execution_count": 28,
   "id": "8bd0dbb6-3287-4979-beae-13cecbb06cc7",
   "metadata": {
    "tags": []
   },
   "outputs": [
    {
     "data": {
      "text/plain": [
       "'thamires'"
      ]
     },
     "execution_count": 28,
     "metadata": {},
     "output_type": "execute_result"
    }
   ],
   "source": [
    "#Converter para caixa baixa\n",
    "minha_string.lower()"
   ]
  },
  {
   "cell_type": "code",
   "execution_count": 31,
   "id": "481487cd-2922-49d1-8633-98a62162489c",
   "metadata": {
    "tags": []
   },
   "outputs": [
    {
     "data": {
      "text/plain": [
       "['Hello', 'Thamires']"
      ]
     },
     "execution_count": 31,
     "metadata": {},
     "output_type": "execute_result"
    }
   ],
   "source": [
    "# quebrar a string\n",
    "\n",
    "\"Hello Thamires\".split()"
   ]
  },
  {
   "cell_type": "code",
   "execution_count": 33,
   "id": "e83fcaa2-0f8b-485a-8f6a-861c61f97640",
   "metadata": {
    "tags": []
   },
   "outputs": [
    {
     "data": {
      "text/plain": [
       "['Hello ', 'hamires']"
      ]
     },
     "execution_count": 33,
     "metadata": {},
     "output_type": "execute_result"
    }
   ],
   "source": [
    "# definir onde quer quebrar\n",
    "\"Hello Thamires\".split(\"T\")"
   ]
  },
  {
   "cell_type": "code",
   "execution_count": 35,
   "id": "c5cc35f8-8fc7-418c-b521-967520cd487c",
   "metadata": {
    "tags": []
   },
   "outputs": [
    {
     "data": {
      "text/plain": [
       "['Hello Tha', 'ires']"
      ]
     },
     "execution_count": 35,
     "metadata": {},
     "output_type": "execute_result"
    }
   ],
   "source": [
    "# definir onde quer quebrar\n",
    "\"Hello Thamires\".split(\"m\")"
   ]
  },
  {
   "cell_type": "code",
   "execution_count": 34,
   "id": "b8d5cca8-24b9-4ed8-9663-6df24a143223",
   "metadata": {
    "tags": []
   },
   "outputs": [
    {
     "name": "stdout",
     "output_type": "stream",
     "text": [
      "Idade da pessoa é: 21 e o nome da pessoa é Thamires\n"
     ]
    }
   ],
   "source": [
    "idade = 21\n",
    "nome = \"Thamires\"\n",
    "print(\"Idade da pessoa é: {a} e o nome da pessoa é {b}\".format(a = idade, b = nome))"
   ]
  },
  {
   "cell_type": "code",
   "execution_count": 37,
   "id": "2c995353-e6bb-4171-b19f-76b5fef890f8",
   "metadata": {
    "tags": []
   },
   "outputs": [
    {
     "data": {
      "text/plain": [
       "[1, 2, 3]"
      ]
     },
     "execution_count": 37,
     "metadata": {},
     "output_type": "execute_result"
    }
   ],
   "source": [
    "# Listas\n",
    "\n",
    "minha_lista = [1,2,3]\n",
    "minha_lista"
   ]
  },
  {
   "cell_type": "code",
   "execution_count": 38,
   "id": "3c133684-ac39-4eb0-9201-9a2e935d3e07",
   "metadata": {
    "tags": []
   },
   "outputs": [
    {
     "data": {
      "text/plain": [
       "[2]"
      ]
     },
     "execution_count": 38,
     "metadata": {},
     "output_type": "execute_result"
    }
   ],
   "source": [
    "minha_lista[1:-1]"
   ]
  },
  {
   "cell_type": "code",
   "execution_count": 51,
   "id": "b63d4df9-41a2-4f5a-ba19-e0e0ba450da4",
   "metadata": {
    "tags": []
   },
   "outputs": [
    {
     "data": {
      "text/plain": [
       "[1, 2, 3, 4]"
      ]
     },
     "execution_count": 51,
     "metadata": {},
     "output_type": "execute_result"
    }
   ],
   "source": [
    "# Métodos básicos de lista\n",
    "\n",
    "l = [1,2,3]\n",
    "#acrescentar \n",
    "l.append(4)\n",
    "l"
   ]
  },
  {
   "cell_type": "code",
   "execution_count": 52,
   "id": "40ceb16f-af5d-4d80-a592-7b737f1da70d",
   "metadata": {
    "tags": []
   },
   "outputs": [
    {
     "data": {
      "text/plain": [
       "[1, 2, 3]"
      ]
     },
     "execution_count": 52,
     "metadata": {},
     "output_type": "execute_result"
    }
   ],
   "source": [
    "#retirar o último número\n",
    "l.pop()\n",
    "l"
   ]
  },
  {
   "cell_type": "code",
   "execution_count": 56,
   "id": "9f550e03-b2b6-4cfa-8b3a-65e1d67250f0",
   "metadata": {
    "tags": []
   },
   "outputs": [
    {
     "data": {
      "text/plain": [
       "['a', 'b', 'c', 'd']"
      ]
     },
     "execution_count": 56,
     "metadata": {},
     "output_type": "execute_result"
    }
   ],
   "source": [
    "outra_lista = ['a', 'b', 'c', 'd']\n",
    "#colocar em ordem alfabética\n",
    "outra_lista.sort()\n",
    "outra_lista"
   ]
  },
  {
   "cell_type": "code",
   "execution_count": 58,
   "id": "f86c512c-5985-48c0-8d0b-d3ee80ae5a6a",
   "metadata": {
    "tags": []
   },
   "outputs": [
    {
     "data": {
      "text/plain": [
       "['a', 'b', 'c', 'd']"
      ]
     },
     "execution_count": 58,
     "metadata": {},
     "output_type": "execute_result"
    }
   ],
   "source": [
    "# inverte a lista\n",
    "outra_lista.reverse()\n",
    "outra_lista"
   ]
  },
  {
   "cell_type": "code",
   "execution_count": 60,
   "id": "44e7afeb-4620-46f5-863b-398b331f56a8",
   "metadata": {
    "tags": []
   },
   "outputs": [
    {
     "name": "stdout",
     "output_type": "stream",
     "text": [
      "Digite seu nome: \n"
     ]
    },
    {
     "name": "stdin",
     "output_type": "stream",
     "text": [
      " Thamires\n"
     ]
    },
    {
     "name": "stdout",
     "output_type": "stream",
     "text": [
      "Olá, Thamires\n"
     ]
    }
   ],
   "source": [
    "# inputs\n",
    "\n",
    "print(\"Digite seu nome: \")\n",
    "a = input()\n",
    "print(\"Olá,\", a)"
   ]
  }
 ],
 "metadata": {
  "kernelspec": {
   "display_name": "Python 3 (ipykernel)",
   "language": "python",
   "name": "python3"
  },
  "language_info": {
   "codemirror_mode": {
    "name": "ipython",
    "version": 3
   },
   "file_extension": ".py",
   "mimetype": "text/x-python",
   "name": "python",
   "nbconvert_exporter": "python",
   "pygments_lexer": "ipython3",
   "version": "3.11.5"
  }
 },
 "nbformat": 4,
 "nbformat_minor": 5
}
