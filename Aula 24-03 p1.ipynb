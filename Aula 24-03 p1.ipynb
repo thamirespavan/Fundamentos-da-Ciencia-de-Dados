{
 "cells": [
  {
   "cell_type": "code",
   "execution_count": null,
   "id": "2d91f996-fc93-4b99-be7a-4e940197fe54",
   "metadata": {},
   "outputs": [],
   "source": [
    "# Dicionário"
   ]
  },
  {
   "cell_type": "code",
   "execution_count": 1,
   "id": "8b1b3aa7-d791-4d74-9fc0-fab43d95d148",
   "metadata": {
    "tags": []
   },
   "outputs": [],
   "source": [
    "meu_dicionario = {\"nome\":\"Paulo\", \"idade\":30,\"filhos\":['joão', 'maria']}"
   ]
  },
  {
   "cell_type": "code",
   "execution_count": 2,
   "id": "71c0414b-7815-45ae-a28d-20ae76667ca3",
   "metadata": {
    "tags": []
   },
   "outputs": [
    {
     "data": {
      "text/plain": [
       "{'nome': 'Paulo', 'idade': 30, 'filhos': ['joão', 'maria']}"
      ]
     },
     "execution_count": 2,
     "metadata": {},
     "output_type": "execute_result"
    }
   ],
   "source": [
    "meu_dicionario"
   ]
  },
  {
   "cell_type": "code",
   "execution_count": 3,
   "id": "8e47c796-2089-40f9-93f4-5b523bfff54d",
   "metadata": {
    "tags": []
   },
   "outputs": [
    {
     "data": {
      "text/plain": [
       "'Paulo'"
      ]
     },
     "execution_count": 3,
     "metadata": {},
     "output_type": "execute_result"
    }
   ],
   "source": [
    "meu_dicionario['nome']"
   ]
  },
  {
   "cell_type": "code",
   "execution_count": 4,
   "id": "c99651b3-8d5d-40b6-827a-808887b7fdc6",
   "metadata": {
    "tags": []
   },
   "outputs": [
    {
     "data": {
      "text/plain": [
       "30"
      ]
     },
     "execution_count": 4,
     "metadata": {},
     "output_type": "execute_result"
    }
   ],
   "source": [
    "meu_dicionario['idade']"
   ]
  },
  {
   "cell_type": "code",
   "execution_count": 5,
   "id": "eb3cbf99-a541-435e-9867-be83ccd30633",
   "metadata": {
    "tags": []
   },
   "outputs": [],
   "source": [
    "meu_dicionario['cidade']=\"Cariacica\""
   ]
  },
  {
   "cell_type": "code",
   "execution_count": 6,
   "id": "bb122015-968a-405c-84ae-876ec954c374",
   "metadata": {
    "tags": []
   },
   "outputs": [
    {
     "data": {
      "text/plain": [
       "'Cariacica'"
      ]
     },
     "execution_count": 6,
     "metadata": {},
     "output_type": "execute_result"
    }
   ],
   "source": [
    "meu_dicionario['cidade']"
   ]
  },
  {
   "cell_type": "code",
   "execution_count": 7,
   "id": "508e465f-2763-44ee-bcbe-0f095efe5a75",
   "metadata": {
    "tags": []
   },
   "outputs": [
    {
     "data": {
      "text/plain": [
       "{'nome': 'Paulo',\n",
       " 'idade': 30,\n",
       " 'filhos': ['joão', 'maria'],\n",
       " 'cidade': 'Cariacica'}"
      ]
     },
     "execution_count": 7,
     "metadata": {},
     "output_type": "execute_result"
    }
   ],
   "source": [
    "meu_dicionario"
   ]
  },
  {
   "cell_type": "code",
   "execution_count": 8,
   "id": "9ea4dae1-c545-4b88-ba35-84dab434cd93",
   "metadata": {
    "tags": []
   },
   "outputs": [
    {
     "data": {
      "text/plain": [
       "dict_keys(['nome', 'idade', 'filhos', 'cidade'])"
      ]
     },
     "execution_count": 8,
     "metadata": {},
     "output_type": "execute_result"
    }
   ],
   "source": [
    "#Acesso às chaves do dicionário\n",
    "meu_dicionario.keys()"
   ]
  },
  {
   "cell_type": "code",
   "execution_count": 11,
   "id": "965b450a-0777-4457-823e-656ef48c4489",
   "metadata": {
    "tags": []
   },
   "outputs": [
    {
     "data": {
      "text/plain": [
       "dict_items([('nome', 'Paulo'), ('idade', 30), ('filhos', ['joão', 'maria']), ('cidade', 'Cariacica')])"
      ]
     },
     "execution_count": 11,
     "metadata": {},
     "output_type": "execute_result"
    }
   ],
   "source": [
    "#Acesso aos itens do dicionário\n",
    "meu_dicionario.items()"
   ]
  },
  {
   "cell_type": "code",
   "execution_count": 12,
   "id": "f3681f6d-b404-4c71-8528-f8bf6737a498",
   "metadata": {
    "tags": []
   },
   "outputs": [
    {
     "data": {
      "text/plain": [
       "dict_values(['Paulo', 30, ['joão', 'maria'], 'Cariacica'])"
      ]
     },
     "execution_count": 12,
     "metadata": {},
     "output_type": "execute_result"
    }
   ],
   "source": [
    "#Acesso aos valores do dicionário\n",
    "meu_dicionario.values()"
   ]
  },
  {
   "cell_type": "code",
   "execution_count": 13,
   "id": "0af3302a-b437-47cb-8e45-ddfe5ea56421",
   "metadata": {
    "tags": []
   },
   "outputs": [
    {
     "name": "stdout",
     "output_type": "stream",
     "text": [
      "Digite o nome:\n"
     ]
    },
    {
     "name": "stdin",
     "output_type": "stream",
     "text": [
      " Thamires\n"
     ]
    }
   ],
   "source": [
    "meu_dic = {}\n",
    "print(\"Digite o nome:\")\n",
    "meu_dic['nome'] = input()"
   ]
  },
  {
   "cell_type": "code",
   "execution_count": 14,
   "id": "ec02380a-90b0-45d0-ae0a-f8f2dc6a3f69",
   "metadata": {
    "tags": []
   },
   "outputs": [
    {
     "data": {
      "text/plain": [
       "{'nome': 'Thamires'}"
      ]
     },
     "execution_count": 14,
     "metadata": {},
     "output_type": "execute_result"
    }
   ],
   "source": [
    "meu_dic"
   ]
  },
  {
   "cell_type": "code",
   "execution_count": 15,
   "id": "11db601b-a419-4c40-bd07-2a48dc1318e0",
   "metadata": {
    "tags": []
   },
   "outputs": [],
   "source": [
    "# Tuplas"
   ]
  },
  {
   "cell_type": "code",
   "execution_count": 16,
   "id": "25f02f3d-4044-40bb-9118-a9a1a685d019",
   "metadata": {
    "tags": []
   },
   "outputs": [],
   "source": [
    "t = (1,2,3)"
   ]
  },
  {
   "cell_type": "code",
   "execution_count": 17,
   "id": "0f7b9d8f-33e3-4439-9899-36879567199b",
   "metadata": {
    "tags": []
   },
   "outputs": [
    {
     "data": {
      "text/plain": [
       "2"
      ]
     },
     "execution_count": 17,
     "metadata": {},
     "output_type": "execute_result"
    }
   ],
   "source": [
    "t[1]"
   ]
  },
  {
   "cell_type": "code",
   "execution_count": 18,
   "id": "f461d813-e333-42af-bc08-f211ca96b335",
   "metadata": {
    "tags": []
   },
   "outputs": [],
   "source": [
    "a, b = (1,2)"
   ]
  },
  {
   "cell_type": "code",
   "execution_count": 19,
   "id": "e9c63cb7-557a-46ac-b71b-b111d5c8e670",
   "metadata": {
    "tags": []
   },
   "outputs": [
    {
     "data": {
      "text/plain": [
       "1"
      ]
     },
     "execution_count": 19,
     "metadata": {},
     "output_type": "execute_result"
    }
   ],
   "source": [
    "a"
   ]
  },
  {
   "cell_type": "code",
   "execution_count": 20,
   "id": "5cf01af7-16d6-4e51-936d-67e2c6ac639b",
   "metadata": {
    "tags": []
   },
   "outputs": [
    {
     "data": {
      "text/plain": [
       "2"
      ]
     },
     "execution_count": 20,
     "metadata": {},
     "output_type": "execute_result"
    }
   ],
   "source": [
    "b"
   ]
  }
 ],
 "metadata": {
  "kernelspec": {
   "display_name": "Python 3 (ipykernel)",
   "language": "python",
   "name": "python3"
  },
  "language_info": {
   "codemirror_mode": {
    "name": "ipython",
    "version": 3
   },
   "file_extension": ".py",
   "mimetype": "text/x-python",
   "name": "python",
   "nbconvert_exporter": "python",
   "pygments_lexer": "ipython3",
   "version": "3.11.5"
  }
 },
 "nbformat": 4,
 "nbformat_minor": 5
}
